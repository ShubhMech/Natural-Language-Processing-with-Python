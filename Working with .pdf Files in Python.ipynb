{
 "cells": [
  {
   "cell_type": "code",
   "execution_count": 1,
   "id": "144a2bd2-63e6-442a-af46-6808c257204a",
   "metadata": {},
   "outputs": [],
   "source": [
    "path= r\"C:\\Users\\Asus\\Desktop\\sample.pdf\""
   ]
  },
  {
   "cell_type": "code",
   "execution_count": 2,
   "id": "53f09de3-fa9d-4f92-8dea-403be85b423c",
   "metadata": {},
   "outputs": [],
   "source": [
    "import PyPDF2 as pdf"
   ]
  },
  {
   "cell_type": "code",
   "execution_count": 3,
   "id": "bfcdb246-b284-4ceb-81f3-b4cfbb50fbcc",
   "metadata": {},
   "outputs": [],
   "source": [
    "file= open(path, mode='rb+')"
   ]
  },
  {
   "cell_type": "code",
   "execution_count": 4,
   "id": "f94dc30c-26fb-4fac-b95c-130a30bd0db2",
   "metadata": {},
   "outputs": [],
   "source": [
    "file= pdf.PdfFileReader(file)"
   ]
  },
  {
   "cell_type": "code",
   "execution_count": 5,
   "id": "04627204-957d-49f9-ace0-5ddfddb0f137",
   "metadata": {},
   "outputs": [
    {
     "data": {
      "text/plain": [
       "2"
      ]
     },
     "execution_count": 5,
     "metadata": {},
     "output_type": "execute_result"
    }
   ],
   "source": [
    "file.getNumPages()"
   ]
  },
  {
   "cell_type": "code",
   "execution_count": 6,
   "id": "8399c70b-e3d6-4356-82f7-c035e6f668d9",
   "metadata": {},
   "outputs": [],
   "source": [
    "file.getFields()"
   ]
  },
  {
   "cell_type": "code",
   "execution_count": 7,
   "id": "35a08bda-9a16-4ef3-b355-d7d9ef8f5a2f",
   "metadata": {},
   "outputs": [],
   "source": [
    "page=file.getPage(0)"
   ]
  },
  {
   "cell_type": "code",
   "execution_count": 8,
   "id": "87f6bdbf-d7d7-45fd-8060-a52ea43e95ed",
   "metadata": {},
   "outputs": [
    {
     "data": {
      "text/plain": [
       "' A Simple PDF File  This is a small demonstration .pdf file -  just for use in the Virtual Mechanics tutorials. More text. And more  text. And more text. And more text. And more text.  And more text. And more text. And more text. And more text. And more  text. And more text. Boring, zzzzz. And more text. And more text. And  more text. And more text. And more text. And more text. And more text.  And more text. And more text.  And more text. And more text. And more text. And more text. And more  text. And more text. And more text. Even more. Continued on page 2 ...'"
      ]
     },
     "execution_count": 8,
     "metadata": {},
     "output_type": "execute_result"
    }
   ],
   "source": [
    "page.extractText()"
   ]
  },
  {
   "cell_type": "code",
   "execution_count": 9,
   "id": "a167b4d3-95f0-4ccb-a70e-6a1246e7e48d",
   "metadata": {},
   "outputs": [],
   "source": [
    "writer= pdf.PdfFileWriter()\n"
   ]
  },
  {
   "cell_type": "code",
   "execution_count": 10,
   "id": "68661a79-ef43-4d7f-8b18-c7765461cd5a",
   "metadata": {},
   "outputs": [],
   "source": [
    "writer.addPage(page)"
   ]
  },
  {
   "cell_type": "code",
   "execution_count": 11,
   "id": "803915be-09b4-4485-9d4b-0d075d8c9f3f",
   "metadata": {},
   "outputs": [],
   "source": [
    "new_file= open(r'C:\\Users\\Asus\\Desktop\\HareRam.pdf','wb')"
   ]
  },
  {
   "cell_type": "code",
   "execution_count": 12,
   "id": "a2de4d81-53b9-4617-8990-5ff7114fd19a",
   "metadata": {},
   "outputs": [],
   "source": [
    "writer.write(new_file)"
   ]
  },
  {
   "cell_type": "code",
   "execution_count": 16,
   "id": "096a499f-2cfb-4a1c-b0a9-7ace1537f1cb",
   "metadata": {},
   "outputs": [],
   "source": [
    "newer_file=open(r'C:\\Users\\Asus\\Desktop\\HareRam.pdf','rb')"
   ]
  },
  {
   "cell_type": "code",
   "execution_count": 18,
   "id": "1d4cdb8a-bc8c-4e54-bff4-32932d2bcba7",
   "metadata": {},
   "outputs": [],
   "source": [
    "file=pdf.PdfFileReader(newer_file,'rb')"
   ]
  },
  {
   "cell_type": "code",
   "execution_count": 20,
   "id": "36731feb-0ec8-422d-a644-2f957d959c1b",
   "metadata": {},
   "outputs": [],
   "source": [
    "first_page=file.getPage(0)"
   ]
  },
  {
   "cell_type": "code",
   "execution_count": 22,
   "id": "d5491b67-0b45-44bd-9bc0-ed95c744c17b",
   "metadata": {},
   "outputs": [
    {
     "data": {
      "text/plain": [
       "' A Simple PDF File  This is a small demonstration .pdf file -  just for use in the Virtual Mechanics tutorials. More text. And more  text. And more text. And more text. And more text.  And more text. And more text. And more text. And more text. And more  text. And more text. Boring, zzzzz. And more text. And more text. And  more text. And more text. And more text. And more text. And more text.  And more text. And more text.  And more text. And more text. And more text. And more text. And more  text. And more text. And more text. Even more. Continued on page 2 ...'"
      ]
     },
     "execution_count": 22,
     "metadata": {},
     "output_type": "execute_result"
    }
   ],
   "source": [
    "first_page.extractText()"
   ]
  },
  {
   "cell_type": "code",
   "execution_count": null,
   "id": "0d339e86-75d6-4b5d-88db-4fc7a6fe8aae",
   "metadata": {},
   "outputs": [],
   "source": []
  },
  {
   "cell_type": "code",
   "execution_count": null,
   "id": "164cb4bd-5b9a-4c4f-a20f-e97d93d042c5",
   "metadata": {},
   "outputs": [],
   "source": []
  }
 ],
 "metadata": {
  "kernelspec": {
   "display_name": "Python 3",
   "language": "python",
   "name": "python3"
  },
  "language_info": {
   "codemirror_mode": {
    "name": "ipython",
    "version": 3
   },
   "file_extension": ".py",
   "mimetype": "text/x-python",
   "name": "python",
   "nbconvert_exporter": "python",
   "pygments_lexer": "ipython3",
   "version": "3.8.5"
  }
 },
 "nbformat": 4,
 "nbformat_minor": 5
}
