{
 "cells": [
  {
   "cell_type": "code",
   "execution_count": 1,
   "id": "5fc1cf69-57d5-44fc-b068-01bccf112c79",
   "metadata": {},
   "outputs": [],
   "source": [
    "import re"
   ]
  },
  {
   "cell_type": "code",
   "execution_count": 2,
   "id": "e1006f7c-f115-4197-a74f-d907ee9303f0",
   "metadata": {},
   "outputs": [],
   "source": [
    "text= \"Hey, I am the best Machine Learning Engineer and the best Data Scientist in the world wight now.\""
   ]
  },
  {
   "cell_type": "code",
   "execution_count": 17,
   "id": "5f49c330-9873-4a50-a927-096869911f21",
   "metadata": {},
   "outputs": [],
   "source": [
    "pattern= \"the best\"\n",
    "res=re.search(pattern, text)"
   ]
  },
  {
   "cell_type": "code",
   "execution_count": 18,
   "id": "06352b03-08d6-418a-9da6-d17ad8873099",
   "metadata": {},
   "outputs": [
    {
     "data": {
      "text/plain": [
       "<re.Match object; span=(10, 18), match='the best'>"
      ]
     },
     "execution_count": 18,
     "metadata": {},
     "output_type": "execute_result"
    }
   ],
   "source": [
    "res"
   ]
  },
  {
   "cell_type": "code",
   "execution_count": 19,
   "id": "6328d607-0570-4e28-850d-64c0e1e1a77c",
   "metadata": {},
   "outputs": [
    {
     "data": {
      "text/plain": [
       "(10, 18)"
      ]
     },
     "execution_count": 19,
     "metadata": {},
     "output_type": "execute_result"
    }
   ],
   "source": [
    "res.span()"
   ]
  },
  {
   "cell_type": "code",
   "execution_count": 8,
   "id": "53c13579-40ea-4aed-a18e-2a806d5e82bb",
   "metadata": {},
   "outputs": [],
   "source": [
    "pattern= \"the best machine learning\"\n",
    "res=re.search(pattern, text)"
   ]
  },
  {
   "cell_type": "code",
   "execution_count": 10,
   "id": "6f690d81-77b7-4f0f-bf1b-494147fd3b5f",
   "metadata": {},
   "outputs": [
    {
     "name": "stdout",
     "output_type": "stream",
     "text": [
      "None\n"
     ]
    }
   ],
   "source": [
    "print(res)"
   ]
  },
  {
   "cell_type": "code",
   "execution_count": 15,
   "id": "1db970cb-30b2-4ab3-8f18-387e96161376",
   "metadata": {},
   "outputs": [],
   "source": [
    "pattern= \"\\w{3} \\w \\w{3,}\"\n",
    "res=re.search(pattern, text)"
   ]
  },
  {
   "cell_type": "code",
   "execution_count": 22,
   "id": "23ca050e-4b6c-45cd-969c-3f5936386ff9",
   "metadata": {},
   "outputs": [],
   "source": [
    "res=re.findall(\"the best\", text)"
   ]
  },
  {
   "cell_type": "code",
   "execution_count": 24,
   "id": "1418320a-4980-4669-a672-1055793380f1",
   "metadata": {},
   "outputs": [
    {
     "data": {
      "text/plain": [
       "list"
      ]
     },
     "execution_count": 24,
     "metadata": {},
     "output_type": "execute_result"
    }
   ],
   "source": [
    "type(res)"
   ]
  },
  {
   "cell_type": "code",
   "execution_count": 39,
   "id": "663b429b-4e32-4daa-bc3b-8b7f594c0658",
   "metadata": {},
   "outputs": [
    {
     "name": "stdout",
     "output_type": "stream",
     "text": [
      "(10, 14)\n",
      "<re.Match object; span=(10, 14), match='the '>\n",
      "(49, 53)\n",
      "<re.Match object; span=(49, 53), match='the '>\n",
      "(76, 80)\n",
      "<re.Match object; span=(76, 80), match='the '>\n"
     ]
    }
   ],
   "source": [
    "for res in re.finditer(r\"(the) | (best)\", text):\n",
    "    print(res.span())\n",
    "    print(res)"
   ]
  },
  {
   "cell_type": "code",
   "execution_count": 36,
   "id": "c5782921-c197-41b9-a9bc-1893ad930266",
   "metadata": {},
   "outputs": [
    {
     "name": "stdout",
     "output_type": "stream",
     "text": [
      "(14, 18)\n",
      "<re.Match object; span=(14, 18), match='best'>\n",
      "(53, 57)\n",
      "<re.Match object; span=(53, 57), match='best'>\n"
     ]
    }
   ],
   "source": [
    "for res in re.finditer(r\"best\", text):\n",
    "    print(res.span())\n",
    "    print(res)"
   ]
  },
  {
   "cell_type": "code",
   "execution_count": 47,
   "id": "1b9cc66e-e95d-4ee4-98e9-cf516fe9e9e6",
   "metadata": {},
   "outputs": [
    {
     "name": "stdout",
     "output_type": "stream",
     "text": [
      "(9, 19)\n",
      "<re.Match object; span=(9, 19), match=' the best '>\n",
      " the best \n",
      "(48, 58)\n",
      "<re.Match object; span=(48, 58), match=' the best '>\n",
      " the best \n"
     ]
    }
   ],
   "source": [
    "for res in re.finditer(r\"\\s\\w{3}\\s\\w{4}\\s\", text):\n",
    "    print(res.span())\n",
    "    print(res)\n",
    "    print(res.group())"
   ]
  },
  {
   "cell_type": "code",
   "execution_count": 50,
   "id": "8b7d4bf6-8e84-4b22-9acb-e11e601cfe60",
   "metadata": {},
   "outputs": [
    {
     "name": "stdout",
     "output_type": "stream",
     "text": [
      "(9, 19)\n",
      "<re.Match object; span=(9, 19), match=' the best '>\n",
      " the best \n",
      "(26, 45)\n",
      "<re.Match object; span=(26, 45), match=' Learning Engineer '>\n",
      " Learning Engineer \n",
      "(48, 58)\n",
      "<re.Match object; span=(48, 58), match=' the best '>\n",
      " the best \n",
      "(75, 86)\n",
      "<re.Match object; span=(75, 86), match=' the world '>\n",
      " the world \n"
     ]
    }
   ],
   "source": [
    "for res in re.finditer(r\"\\s\\w{3,}\\s\\w{4,}\\s\", text):\n",
    "    print(res.span())\n",
    "    print(res)\n",
    "    print(res.group())"
   ]
  },
  {
   "cell_type": "code",
   "execution_count": 53,
   "id": "f0e99ea6-8213-4dbd-a128-0732dad451ab",
   "metadata": {},
   "outputs": [
    {
     "name": "stdout",
     "output_type": "stream",
     "text": [
      " the best \n",
      " Learning Engineer \n",
      " the best \n",
      " the world \n"
     ]
    }
   ],
   "source": [
    "for res in re.finditer(r\"\\s\\w{3,}\\s\\w{4,}\\s\", text):\n",
    "\n",
    "    print(res.group())"
   ]
  },
  {
   "cell_type": "code",
   "execution_count": 67,
   "id": "c7df64cf-e9b6-4285-a157-fc63d70c5b7b",
   "metadata": {},
   "outputs": [
    {
     "name": "stdout",
     "output_type": "stream",
     "text": [
      "[' the best ', ' Learning Engineer ', ' the best ', ' the world ']\n"
     ]
    }
   ],
   "source": [
    "res= re.findall(r\"\\s\\w{3,}\\s\\w{4,}\\s\", text)\n",
    "\n",
    "\n",
    "\n",
    "\n",
    "print(res)"
   ]
  },
  {
   "cell_type": "code",
   "execution_count": 70,
   "id": "0a37dc86-b389-4f9b-85f5-28de13c0e1ad",
   "metadata": {},
   "outputs": [],
   "source": [
    "pattern= r\"\\d{3}-\\d{3}-\\d{4}\"\n",
    "text= r\"888-888-9999\""
   ]
  },
  {
   "cell_type": "code",
   "execution_count": 74,
   "id": "36029d9b-7035-42a2-a703-f094c8f33d35",
   "metadata": {},
   "outputs": [],
   "source": [
    "res=re.search(pattern, text)"
   ]
  },
  {
   "cell_type": "code",
   "execution_count": 75,
   "id": "b83be745-f560-4aab-a396-3609cd0590ed",
   "metadata": {},
   "outputs": [
    {
     "data": {
      "text/plain": [
       "'888-888-9999'"
      ]
     },
     "execution_count": 75,
     "metadata": {},
     "output_type": "execute_result"
    }
   ],
   "source": [
    "res.group()"
   ]
  },
  {
   "cell_type": "code",
   "execution_count": 77,
   "id": "37527949-9d32-4a49-812b-a210d3908b65",
   "metadata": {},
   "outputs": [
    {
     "data": {
      "text/plain": [
       "(0, 12)"
      ]
     },
     "execution_count": 77,
     "metadata": {},
     "output_type": "execute_result"
    }
   ],
   "source": [
    "res.span()"
   ]
  },
  {
   "cell_type": "code",
   "execution_count": 84,
   "id": "fe9d35dc-adcf-4009-bb56-db248857dcca",
   "metadata": {},
   "outputs": [
    {
     "data": {
      "text/plain": [
       "'888-888-9999'"
      ]
     },
     "execution_count": 84,
     "metadata": {},
     "output_type": "execute_result"
    }
   ],
   "source": [
    "res.string\n"
   ]
  },
  {
   "cell_type": "code",
   "execution_count": 89,
   "id": "f13324a3-e815-4d73-8a97-85b87919f9a5",
   "metadata": {},
   "outputs": [],
   "source": [
    "text= \"the best test chest nest behest fest guest fest lest pest rest vest west zest\"\n",
    "pattern = r\".+est\"\n",
    "res=re.findall(pattern, text)"
   ]
  },
  {
   "cell_type": "code",
   "execution_count": 90,
   "id": "c88da35b-af20-487e-b91b-824887796a7d",
   "metadata": {},
   "outputs": [
    {
     "data": {
      "text/plain": [
       "['the best test chest nest behest fest guest fest lest pest rest vest west zest']"
      ]
     },
     "execution_count": 90,
     "metadata": {},
     "output_type": "execute_result"
    }
   ],
   "source": [
    "res"
   ]
  },
  {
   "cell_type": "code",
   "execution_count": 145,
   "id": "44711e45-b79c-483f-95ea-1afd621aaff4",
   "metadata": {},
   "outputs": [],
   "source": [
    "text= \"the best test chest nest behest fest guest fest lest pest rest vest west zest\"\n",
    "pattern = r\"[(est)]+\"\n",
    "res=re.findall(pattern, text)"
   ]
  },
  {
   "cell_type": "code",
   "execution_count": 146,
   "id": "236fe3bd-5d2b-47ed-a97b-7c3aa08473d2",
   "metadata": {},
   "outputs": [
    {
     "data": {
      "text/plain": [
       "['t',\n",
       " 'e',\n",
       " 'est',\n",
       " 'test',\n",
       " 'est',\n",
       " 'est',\n",
       " 'e',\n",
       " 'est',\n",
       " 'est',\n",
       " 'est',\n",
       " 'est',\n",
       " 'est',\n",
       " 'est',\n",
       " 'est',\n",
       " 'est',\n",
       " 'est',\n",
       " 'est']"
      ]
     },
     "execution_count": 146,
     "metadata": {},
     "output_type": "execute_result"
    }
   ],
   "source": [
    "res"
   ]
  },
  {
   "cell_type": "code",
   "execution_count": 116,
   "id": "33806f8e-1820-4c20-a163-ae5473cdec16",
   "metadata": {},
   "outputs": [],
   "source": [
    "text= \"the best test 44 chest 5 nest behest 6666 fest guest fest lest pest rest vest west zest\"\n",
    "pattern = r\"[^\\d]+\"\n",
    "res=re.findall(pattern, text)"
   ]
  },
  {
   "cell_type": "code",
   "execution_count": 117,
   "id": "ae46c27c-15ee-4bcb-bc28-62b705c5f06c",
   "metadata": {},
   "outputs": [
    {
     "data": {
      "text/plain": [
       "['the best test ',\n",
       " ' chest ',\n",
       " ' nest behest ',\n",
       " ' fest guest fest lest pest rest vest west zest']"
      ]
     },
     "execution_count": 117,
     "metadata": {},
     "output_type": "execute_result"
    }
   ],
   "source": [
    "res"
   ]
  },
  {
   "cell_type": "code",
   "execution_count": 118,
   "id": "254ba646-28d6-48de-8c97-c7d830c10329",
   "metadata": {},
   "outputs": [],
   "source": [
    "text= \"the best test , 44 ! chest @ 5$ nest# behest% 6666^ fest& guest* fest lest pest rest vest west zest\"\n",
    "pattern = r\"[^!@#$%^&*]+\"\n",
    "res=re.findall(pattern, text)"
   ]
  },
  {
   "cell_type": "code",
   "execution_count": 119,
   "id": "2bcdd4f6-6818-4de0-ac6c-764525c0ea8b",
   "metadata": {},
   "outputs": [
    {
     "data": {
      "text/plain": [
       "['the best test , 44 ',\n",
       " ' chest ',\n",
       " ' 5',\n",
       " ' nest',\n",
       " ' behest',\n",
       " ' 6666',\n",
       " ' fest',\n",
       " ' guest',\n",
       " ' fest lest pest rest vest west zest']"
      ]
     },
     "execution_count": 119,
     "metadata": {},
     "output_type": "execute_result"
    }
   ],
   "source": [
    "res"
   ]
  },
  {
   "cell_type": "code",
   "execution_count": 128,
   "id": "fb5945ed-3d7a-447c-997f-efc620b3e062",
   "metadata": {},
   "outputs": [],
   "source": [
    "# ff= \"rtfd ry4grgr\".split()"
   ]
  },
  {
   "cell_type": "code",
   "execution_count": 129,
   "id": "d27703ae-0078-448f-a1a2-9cf07513fc0e",
   "metadata": {},
   "outputs": [],
   "source": [
    "# \" \".join(ff)"
   ]
  },
  {
   "cell_type": "code",
   "execution_count": 130,
   "id": "fe27e51e-85cc-426f-a224-b0cb07e96e04",
   "metadata": {},
   "outputs": [
    {
     "data": {
      "text/plain": [
       "'the best test , 44   chest   5  nest  behest  6666  fest  guest  fest lest pest rest vest west zest'"
      ]
     },
     "execution_count": 130,
     "metadata": {},
     "output_type": "execute_result"
    }
   ],
   "source": [
    "\" \".join(res)"
   ]
  },
  {
   "cell_type": "code",
   "execution_count": 156,
   "id": "7e1e4d9d-5ac1-4ed2-9d6f-1885922da4ae",
   "metadata": {},
   "outputs": [],
   "source": [
    "text= \"the best test-chest nest behest fest guest fest lest pest rest vest west zest\"\n",
    "pattern = r\"\\w{1,}-\\w{1,}\"\n",
    "res=re.findall(pattern, text)"
   ]
  },
  {
   "cell_type": "code",
   "execution_count": 157,
   "id": "50b71745-9713-460a-beb0-6a62e663b9d3",
   "metadata": {},
   "outputs": [
    {
     "data": {
      "text/plain": [
       "['test-chest']"
      ]
     },
     "execution_count": 157,
     "metadata": {},
     "output_type": "execute_result"
    }
   ],
   "source": [
    "res\n"
   ]
  },
  {
   "cell_type": "code",
   "execution_count": 167,
   "id": "e320c78c-fe24-4969-b26e-41d74f25101b",
   "metadata": {},
   "outputs": [],
   "source": [
    "text= \"the best test-chest nest behest fest guest fest lest pest rest vest west zest\"\n",
    "pattern = r\"[\\w{1,}]+-[\\w{1,}]+\"\n",
    "res=re.findall(pattern, text)"
   ]
  },
  {
   "cell_type": "code",
   "execution_count": 168,
   "id": "f975280d-b7d0-4a31-8028-7f16d1742b79",
   "metadata": {},
   "outputs": [
    {
     "data": {
      "text/plain": [
       "['test-chest']"
      ]
     },
     "execution_count": 168,
     "metadata": {},
     "output_type": "execute_result"
    }
   ],
   "source": [
    "res"
   ]
  },
  {
   "cell_type": "code",
   "execution_count": null,
   "id": "79b0ed41-2697-4150-8af1-576515cf6481",
   "metadata": {},
   "outputs": [],
   "source": []
  }
 ],
 "metadata": {
  "kernelspec": {
   "display_name": "Python 3",
   "language": "python",
   "name": "python3"
  },
  "language_info": {
   "codemirror_mode": {
    "name": "ipython",
    "version": 3
   },
   "file_extension": ".py",
   "mimetype": "text/x-python",
   "name": "python",
   "nbconvert_exporter": "python",
   "pygments_lexer": "ipython3",
   "version": "3.8.5"
  }
 },
 "nbformat": 4,
 "nbformat_minor": 5
}
