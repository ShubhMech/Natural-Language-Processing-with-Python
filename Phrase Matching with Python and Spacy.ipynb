{
 "cells": [
  {
   "cell_type": "code",
   "execution_count": 33,
   "id": "dda62eef-cf94-4f41-bdbf-df6c02dc06fd",
   "metadata": {},
   "outputs": [],
   "source": [
    "import spacy"
   ]
  },
  {
   "cell_type": "code",
   "execution_count": 34,
   "id": "f14f474e-21fa-4df1-8fde-d1e9ac3af6eb",
   "metadata": {},
   "outputs": [],
   "source": [
    "from spacy.matcher import PhraseMatcher "
   ]
  },
  {
   "cell_type": "code",
   "execution_count": 35,
   "id": "ff127c9c-c368-4a97-b372-3e637f1e0cdf",
   "metadata": {},
   "outputs": [],
   "source": [
    "nlp= spacy.load('en_core_web_sm')"
   ]
  },
  {
   "cell_type": "code",
   "execution_count": 36,
   "id": "15d6690f-c850-4310-a372-225e23fbcd51",
   "metadata": {},
   "outputs": [],
   "source": [
    "patterns= [\"Kya ho gaya\", \"Kaha kho gaye hum\", \" Wo kya din the bc\"]"
   ]
  },
  {
   "cell_type": "code",
   "execution_count": 37,
   "id": "e17ea083-7ad1-419c-aae2-1d319bdf474d",
   "metadata": {},
   "outputs": [],
   "source": [
    "doc= nlp(u\"Kya ho gaya, kab hua, Kaha kho gaye hum, hum, Wo kya din the bc\")"
   ]
  },
  {
   "cell_type": "code",
   "execution_count": 38,
   "id": "ef24a987-2625-4fb9-8f4e-4f765b28610f",
   "metadata": {},
   "outputs": [],
   "source": [
    "matcher=PhraseMatcher(nlp.vocab)"
   ]
  },
  {
   "cell_type": "code",
   "execution_count": 39,
   "id": "dbf5a3f4-f298-4fdb-ac31-94ea02fcdded",
   "metadata": {},
   "outputs": [],
   "source": [
    "patterns= [nlp(pattern) for pattern in patterns]"
   ]
  },
  {
   "cell_type": "code",
   "execution_count": 40,
   "id": "5e2b5e32-d989-418f-b48e-4f83a741c3e6",
   "metadata": {},
   "outputs": [
    {
     "data": {
      "text/plain": [
       "spacy.tokens.doc.Doc"
      ]
     },
     "execution_count": 40,
     "metadata": {},
     "output_type": "execute_result"
    }
   ],
   "source": [
    "type(patterns[0])"
   ]
  },
  {
   "cell_type": "code",
   "execution_count": 41,
   "id": "899a897a-5ad0-4654-a3dd-030cbeb0218c",
   "metadata": {},
   "outputs": [
    {
     "data": {
      "text/plain": [
       "[Kya ho gaya, Kaha kho gaye hum,  Wo kya din the bc]"
      ]
     },
     "execution_count": 41,
     "metadata": {},
     "output_type": "execute_result"
    }
   ],
   "source": [
    "patterns\n"
   ]
  },
  {
   "cell_type": "code",
   "execution_count": 42,
   "id": "2b5d40f7-6da1-4871-9d7d-ccf851ac7bcb",
   "metadata": {},
   "outputs": [],
   "source": [
    "matcher.add(\"HoHoHo\", None,*patterns)"
   ]
  },
  {
   "cell_type": "code",
   "execution_count": 44,
   "id": "1ca3e136-0f23-4508-aefb-70186f517de9",
   "metadata": {},
   "outputs": [],
   "source": [
    "res=matcher(doc)"
   ]
  },
  {
   "cell_type": "code",
   "execution_count": null,
   "id": "26f3fcd0-01a2-487a-9997-9f6b2998c51f",
   "metadata": {},
   "outputs": [],
   "source": [
    "\n",
    "\n"
   ]
  },
  {
   "cell_type": "code",
   "execution_count": null,
   "id": "91961674-822a-4cbb-be03-db5488dad721",
   "metadata": {},
   "outputs": [],
   "source": []
  }
 ],
 "metadata": {
  "kernelspec": {
   "display_name": "Python 3",
   "language": "python",
   "name": "python3"
  },
  "language_info": {
   "codemirror_mode": {
    "name": "ipython",
    "version": 3
   },
   "file_extension": ".py",
   "mimetype": "text/x-python",
   "name": "python",
   "nbconvert_exporter": "python",
   "pygments_lexer": "ipython3",
   "version": "3.8.5"
  }
 },
 "nbformat": 4,
 "nbformat_minor": 5
}
