{
 "cells": [
  {
   "cell_type": "code",
   "execution_count": 1,
   "id": "78e4e13c-e28d-48d4-9201-7bb2ee8ba554",
   "metadata": {},
   "outputs": [
    {
     "name": "stderr",
     "output_type": "stream",
     "text": [
      "<frozen importlib._bootstrap>:219: RuntimeWarning: scipy._lib.messagestream.MessageStream size changed, may indicate binary incompatibility. Expected 56 from C header, got 64 from PyObject\n"
     ]
    }
   ],
   "source": [
    "import nltk"
   ]
  },
  {
   "cell_type": "code",
   "execution_count": 9,
   "id": "1d09ecdb-e32b-4e6c-a551-1acc4ea1b41b",
   "metadata": {},
   "outputs": [],
   "source": [
    "from nltk.stem.porter import PorterStemmer as ps"
   ]
  },
  {
   "cell_type": "code",
   "execution_count": 8,
   "id": "756bcebb-4981-4f74-87bc-183a7b2c5892",
   "metadata": {},
   "outputs": [],
   "source": [
    "from nltk import PorterStemmer as PS"
   ]
  },
  {
   "cell_type": "code",
   "execution_count": 16,
   "id": "aa99c4bd-390d-416d-8660-abdadbab8e18",
   "metadata": {},
   "outputs": [],
   "source": [
    "stemmer= ps()"
   ]
  },
  {
   "cell_type": "code",
   "execution_count": 25,
   "id": "e48f6587-dc3d-4c1a-9d69-be7ec2ed2605",
   "metadata": {
    "tags": []
   },
   "outputs": [
    {
     "data": {
      "text/plain": [
       "'slide'"
      ]
     },
     "execution_count": 25,
     "metadata": {},
     "output_type": "execute_result"
    }
   ],
   "source": [
    "stemmer.stem(\"sliding\")"
   ]
  },
  {
   "cell_type": "code",
   "execution_count": 22,
   "id": "408acbd1-9feb-4531-8db6-8aecacee6a45",
   "metadata": {},
   "outputs": [],
   "source": [
    "stemma= PS()"
   ]
  },
  {
   "cell_type": "code",
   "execution_count": 24,
   "id": "291cd2d9-289b-46f5-b9cb-558fbe957682",
   "metadata": {},
   "outputs": [
    {
     "data": {
      "text/plain": [
       "'give'"
      ]
     },
     "execution_count": 24,
     "metadata": {},
     "output_type": "execute_result"
    }
   ],
   "source": [
    "stemma.stem(\"giving\")"
   ]
  },
  {
   "cell_type": "code",
   "execution_count": 26,
   "id": "4ff5934f-0217-4c19-ad68-4a4279b563d5",
   "metadata": {},
   "outputs": [],
   "source": [
    "from nltk.stem.snowball import SnowballStemmer as SS"
   ]
  },
  {
   "cell_type": "code",
   "execution_count": 28,
   "id": "b84316d3-d405-40f5-977f-60e857f18dd1",
   "metadata": {},
   "outputs": [],
   "source": [
    "ss= SS('english')"
   ]
  },
  {
   "cell_type": "code",
   "execution_count": 30,
   "id": "139cbee5-e53b-4092-83da-a0c5b23048ff",
   "metadata": {},
   "outputs": [
    {
     "data": {
      "text/plain": [
       "'give'"
      ]
     },
     "execution_count": 30,
     "metadata": {},
     "output_type": "execute_result"
    }
   ],
   "source": [
    "ss.stem(\"giving\")"
   ]
  },
  {
   "cell_type": "code",
   "execution_count": 31,
   "id": "de9007bb-b5d6-4e77-b93a-420cb25311ba",
   "metadata": {},
   "outputs": [
    {
     "data": {
      "text/plain": [
       "'fair'"
      ]
     },
     "execution_count": 31,
     "metadata": {},
     "output_type": "execute_result"
    }
   ],
   "source": [
    "ss.stem(\"fairly\")"
   ]
  },
  {
   "cell_type": "code",
   "execution_count": 33,
   "id": "8d9c92ab-4a60-410e-a693-838c199d8812",
   "metadata": {},
   "outputs": [
    {
     "data": {
      "text/plain": [
       "'fairli'"
      ]
     },
     "execution_count": 33,
     "metadata": {},
     "output_type": "execute_result"
    }
   ],
   "source": [
    "stemma.stem('fairly')"
   ]
  },
  {
   "cell_type": "code",
   "execution_count": 35,
   "id": "b0223c48-8cc3-4825-8b5e-889a9e340daa",
   "metadata": {},
   "outputs": [
    {
     "data": {
      "text/plain": [
       "'easili'"
      ]
     },
     "execution_count": 35,
     "metadata": {},
     "output_type": "execute_result"
    }
   ],
   "source": [
    "stemma.stem('easily')"
   ]
  },
  {
   "cell_type": "code",
   "execution_count": 36,
   "id": "8764384a-5581-4ad2-951f-64e057931ba9",
   "metadata": {},
   "outputs": [
    {
     "data": {
      "text/plain": [
       "'gener'"
      ]
     },
     "execution_count": 36,
     "metadata": {},
     "output_type": "execute_result"
    }
   ],
   "source": [
    "stemma.stem('generously')"
   ]
  },
  {
   "cell_type": "code",
   "execution_count": 37,
   "id": "87347853-20c8-4f34-b275-f19263a96620",
   "metadata": {},
   "outputs": [
    {
     "data": {
      "text/plain": [
       "'gener'"
      ]
     },
     "execution_count": 37,
     "metadata": {},
     "output_type": "execute_result"
    }
   ],
   "source": [
    "stemma.stem('generous')"
   ]
  },
  {
   "cell_type": "code",
   "execution_count": 38,
   "id": "c21c9989-ed36-442f-a91f-9e74fb2c9d71",
   "metadata": {},
   "outputs": [
    {
     "data": {
      "text/plain": [
       "'gener'"
      ]
     },
     "execution_count": 38,
     "metadata": {},
     "output_type": "execute_result"
    }
   ],
   "source": [
    "stemma.stem('generation')"
   ]
  },
  {
   "cell_type": "code",
   "execution_count": 39,
   "id": "b0a2bf6b-8f28-4d09-9fd4-db0c9d5e1a06",
   "metadata": {},
   "outputs": [
    {
     "data": {
      "text/plain": [
       "'generat'"
      ]
     },
     "execution_count": 39,
     "metadata": {},
     "output_type": "execute_result"
    }
   ],
   "source": [
    "ss.stem('generation')"
   ]
  },
  {
   "cell_type": "code",
   "execution_count": 41,
   "id": "0d30d8db-7b28-4d08-81a6-09b2be606277",
   "metadata": {},
   "outputs": [
    {
     "data": {
      "text/plain": [
       "'generous'"
      ]
     },
     "execution_count": 41,
     "metadata": {},
     "output_type": "execute_result"
    }
   ],
   "source": [
    "ss.stem('generous')"
   ]
  },
  {
   "cell_type": "code",
   "execution_count": 42,
   "id": "5380eb5d-685d-40a0-a6ba-0aae86e1ef24",
   "metadata": {},
   "outputs": [],
   "source": [
    "import spacy "
   ]
  },
  {
   "cell_type": "code",
   "execution_count": 43,
   "id": "03f4f2dd-b115-4b21-a82b-a89f7ce30c6d",
   "metadata": {},
   "outputs": [],
   "source": [
    "nlp= spacy.load(\"en_core_web_md\")"
   ]
  },
  {
   "cell_type": "code",
   "execution_count": 45,
   "id": "afca5630-1154-43b0-8492-211f70da8935",
   "metadata": {},
   "outputs": [],
   "source": [
    "doc= nlp(\"Hey, I noticed a runner running in a Marathon in which more than 10000 people ran\")"
   ]
  },
  {
   "cell_type": "code",
   "execution_count": 48,
   "id": "2c97cf79-b128-4748-b04e-6217de11302c",
   "metadata": {},
   "outputs": [
    {
     "name": "stdout",
     "output_type": "stream",
     "text": [
      "Hey hey\n",
      ", ,\n",
      "I I\n",
      "noticed notice\n",
      "a a\n",
      "runner runner\n",
      "running run\n",
      "in in\n",
      "a a\n",
      "Marathon Marathon\n",
      "in in\n",
      "which which\n",
      "more more\n",
      "than than\n",
      "10000 10000\n",
      "people people\n",
      "ran run\n"
     ]
    }
   ],
   "source": [
    "for token in doc:\n",
    "    print(token, token.lemma_)"
   ]
  },
  {
   "cell_type": "code",
   "execution_count": null,
   "id": "79d87c16-fd71-46c5-9490-463edfb203a9",
   "metadata": {},
   "outputs": [],
   "source": []
  }
 ],
 "metadata": {
  "kernelspec": {
   "display_name": "Python 3",
   "language": "python",
   "name": "python3"
  },
  "language_info": {
   "codemirror_mode": {
    "name": "ipython",
    "version": 3
   },
   "file_extension": ".py",
   "mimetype": "text/x-python",
   "name": "python",
   "nbconvert_exporter": "python",
   "pygments_lexer": "ipython3",
   "version": "3.8.5"
  }
 },
 "nbformat": 4,
 "nbformat_minor": 5
}
