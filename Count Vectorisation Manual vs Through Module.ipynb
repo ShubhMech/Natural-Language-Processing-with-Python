{
 "cells": [
  {
   "cell_type": "code",
   "execution_count": 41,
   "id": "0c507bfd-d6af-440c-8028-94e31dad47e8",
   "metadata": {},
   "outputs": [
    {
     "name": "stdout",
     "output_type": "stream",
     "text": [
      "Overwriting 1_1.txt\n"
     ]
    }
   ],
   "source": [
    "%%writefile 1_1.txt\n",
    "\"Hey, my name is Shubham, I am a Data Scientist working for Pfizer. I am proficient in Advanced Python, Advanced R, Advanced EXCEL and Advanced SQL. I am also an expert in Machine Learning Algorithms, Natural Language Processing, Deep Learning, and Big Data. I am also proficient in Amazon AWS and data Visualisation Techniques like Power BI and Tableau. I am an asset to my organisation. I am also an expert in modelling complex optimization problems with Gurobi Optimizers and have a strong hold in the Operations Reserach Domain.\""
   ]
  },
  {
   "cell_type": "code",
   "execution_count": 42,
   "id": "85510497-de3a-4d54-9947-b3e731679ce5",
   "metadata": {},
   "outputs": [
    {
     "name": "stdout",
     "output_type": "stream",
     "text": [
      "Overwriting 1_2.txt\n"
     ]
    }
   ],
   "source": [
    "%%writefile 1_2.txt\n",
    "\"Hey, my name is Shubham Mishra, I am a Data Scientist and Demand Planner; working for Global Supply Chain at Pfizer. I am proficient in Advanced Python, Advanced R, Advanced EXCEL and Advanced SQL. I am also an expert in Machine Learning Algorithms, Natural Language Processing, Deep Learning, and Big Data. I am also proficient in Amazon AWS and data Visualisation Techniques like Power BI and Tableau. I am an asset to my organisation. I am also an expert in modelling complex optimization problems with Gurobi Optimizers and have a strong hold in the Operations Reserach Domain.\""
   ]
  },
  {
   "cell_type": "code",
   "execution_count": 43,
   "id": "03575d48-d59a-44ed-9b37-3090a2004c58",
   "metadata": {},
   "outputs": [],
   "source": [
    "dict_= {}"
   ]
  },
  {
   "cell_type": "code",
   "execution_count": 44,
   "id": "0e25f5b0-a31f-42bb-af68-cd6d2f640b9d",
   "metadata": {},
   "outputs": [],
   "source": [
    "with open('1_1.txt', 'r+') as f:\n",
    "    i=1\n",
    "    word= f.read().lower().split()\n",
    "    for w in word:\n",
    "        if w not in dict_:\n",
    "            dict_[w]= i\n",
    "            i += 1\n",
    "        "
   ]
  },
  {
   "cell_type": "code",
   "execution_count": 45,
   "id": "7b31c3ff-9bf2-48d7-bca2-c26cdd252980",
   "metadata": {},
   "outputs": [
    {
     "data": {
      "text/plain": [
       "{'\"hey,': 1,\n",
       " 'my': 2,\n",
       " 'name': 3,\n",
       " 'is': 4,\n",
       " 'shubham,': 5,\n",
       " 'i': 6,\n",
       " 'am': 7,\n",
       " 'a': 8,\n",
       " 'data': 9,\n",
       " 'scientist': 10,\n",
       " 'working': 11,\n",
       " 'for': 12,\n",
       " 'pfizer.': 13,\n",
       " 'proficient': 14,\n",
       " 'in': 15,\n",
       " 'advanced': 16,\n",
       " 'python,': 17,\n",
       " 'r,': 18,\n",
       " 'excel': 19,\n",
       " 'and': 20,\n",
       " 'sql.': 21,\n",
       " 'also': 22,\n",
       " 'an': 23,\n",
       " 'expert': 24,\n",
       " 'machine': 25,\n",
       " 'learning': 26,\n",
       " 'algorithms,': 27,\n",
       " 'natural': 28,\n",
       " 'language': 29,\n",
       " 'processing,': 30,\n",
       " 'deep': 31,\n",
       " 'learning,': 32,\n",
       " 'big': 33,\n",
       " 'data.': 34,\n",
       " 'amazon': 35,\n",
       " 'aws': 36,\n",
       " 'visualisation': 37,\n",
       " 'techniques': 38,\n",
       " 'like': 39,\n",
       " 'power': 40,\n",
       " 'bi': 41,\n",
       " 'tableau.': 42,\n",
       " 'asset': 43,\n",
       " 'to': 44,\n",
       " 'organisation.': 45,\n",
       " 'modelling': 46,\n",
       " 'complex': 47,\n",
       " 'optimization': 48,\n",
       " 'problems': 49,\n",
       " 'with': 50,\n",
       " 'gurobi': 51,\n",
       " 'optimizers': 52,\n",
       " 'have': 53,\n",
       " 'strong': 54,\n",
       " 'hold': 55,\n",
       " 'the': 56,\n",
       " 'operations': 57,\n",
       " 'reserach': 58,\n",
       " 'domain.\"': 59}"
      ]
     },
     "execution_count": 45,
     "metadata": {},
     "output_type": "execute_result"
    }
   ],
   "source": [
    "dict_\n"
   ]
  },
  {
   "cell_type": "code",
   "execution_count": 46,
   "id": "aeece080-254d-4bf5-9868-2db268c2cdf1",
   "metadata": {},
   "outputs": [
    {
     "data": {
      "text/plain": [
       "60"
      ]
     },
     "execution_count": 46,
     "metadata": {},
     "output_type": "execute_result"
    }
   ],
   "source": [
    "i"
   ]
  },
  {
   "cell_type": "code",
   "execution_count": 47,
   "id": "b5e4ab35-f817-427b-9525-b301ae0edcce",
   "metadata": {},
   "outputs": [],
   "source": [
    "with open('1_2.txt', 'r+') as f:\n",
    "    \n",
    "    word= f.read().lower().split()\n",
    "    for w in word:\n",
    "        if w not in dict_:\n",
    "            dict_[w]= i\n",
    "            i += 1\n",
    "        "
   ]
  },
  {
   "cell_type": "code",
   "execution_count": 48,
   "id": "0985b421-a055-47f8-88e4-757df68fddc9",
   "metadata": {},
   "outputs": [
    {
     "data": {
      "text/plain": [
       "{'\"hey,': 1,\n",
       " 'my': 2,\n",
       " 'name': 3,\n",
       " 'is': 4,\n",
       " 'shubham,': 5,\n",
       " 'i': 6,\n",
       " 'am': 7,\n",
       " 'a': 8,\n",
       " 'data': 9,\n",
       " 'scientist': 10,\n",
       " 'working': 11,\n",
       " 'for': 12,\n",
       " 'pfizer.': 13,\n",
       " 'proficient': 14,\n",
       " 'in': 15,\n",
       " 'advanced': 16,\n",
       " 'python,': 17,\n",
       " 'r,': 18,\n",
       " 'excel': 19,\n",
       " 'and': 20,\n",
       " 'sql.': 21,\n",
       " 'also': 22,\n",
       " 'an': 23,\n",
       " 'expert': 24,\n",
       " 'machine': 25,\n",
       " 'learning': 26,\n",
       " 'algorithms,': 27,\n",
       " 'natural': 28,\n",
       " 'language': 29,\n",
       " 'processing,': 30,\n",
       " 'deep': 31,\n",
       " 'learning,': 32,\n",
       " 'big': 33,\n",
       " 'data.': 34,\n",
       " 'amazon': 35,\n",
       " 'aws': 36,\n",
       " 'visualisation': 37,\n",
       " 'techniques': 38,\n",
       " 'like': 39,\n",
       " 'power': 40,\n",
       " 'bi': 41,\n",
       " 'tableau.': 42,\n",
       " 'asset': 43,\n",
       " 'to': 44,\n",
       " 'organisation.': 45,\n",
       " 'modelling': 46,\n",
       " 'complex': 47,\n",
       " 'optimization': 48,\n",
       " 'problems': 49,\n",
       " 'with': 50,\n",
       " 'gurobi': 51,\n",
       " 'optimizers': 52,\n",
       " 'have': 53,\n",
       " 'strong': 54,\n",
       " 'hold': 55,\n",
       " 'the': 56,\n",
       " 'operations': 57,\n",
       " 'reserach': 58,\n",
       " 'domain.\"': 59,\n",
       " 'shubham': 60,\n",
       " 'mishra,': 61,\n",
       " 'demand': 62,\n",
       " 'planner;': 63,\n",
       " 'global': 64,\n",
       " 'supply': 65,\n",
       " 'chain': 66,\n",
       " 'at': 67}"
      ]
     },
     "execution_count": 48,
     "metadata": {},
     "output_type": "execute_result"
    }
   ],
   "source": [
    "dict_"
   ]
  },
  {
   "cell_type": "code",
   "execution_count": 49,
   "id": "1928b0ae-0ddb-4bd2-b01a-7b463dddd3e7",
   "metadata": {},
   "outputs": [],
   "source": [
    "one= ['1_1.txt'] + [0]*len(dict_)"
   ]
  },
  {
   "cell_type": "code",
   "execution_count": 50,
   "id": "b8a9e759-5ffe-4428-9cb1-43005e5d5a16",
   "metadata": {},
   "outputs": [],
   "source": [
    "with open('1_1.txt', 'r+') as f:\n",
    "    \n",
    "    word= f.read().lower().split()\n",
    "    for w in word:\n",
    "        if w in dict_:\n",
    "            one[dict_[w]] += 1\n"
   ]
  },
  {
   "cell_type": "code",
   "execution_count": 51,
   "id": "9a0f4d74-961a-41ea-8429-fe62b529f3c7",
   "metadata": {},
   "outputs": [
    {
     "data": {
      "text/plain": [
       "['1_1.txt',\n",
       " 1,\n",
       " 2,\n",
       " 1,\n",
       " 1,\n",
       " 1,\n",
       " 6,\n",
       " 6,\n",
       " 2,\n",
       " 2,\n",
       " 1,\n",
       " 1,\n",
       " 1,\n",
       " 1,\n",
       " 2,\n",
       " 5,\n",
       " 4,\n",
       " 1,\n",
       " 1,\n",
       " 1,\n",
       " 5,\n",
       " 1,\n",
       " 3,\n",
       " 3,\n",
       " 2,\n",
       " 1,\n",
       " 1,\n",
       " 1,\n",
       " 1,\n",
       " 1,\n",
       " 1,\n",
       " 1,\n",
       " 1,\n",
       " 1,\n",
       " 1,\n",
       " 1,\n",
       " 1,\n",
       " 1,\n",
       " 1,\n",
       " 1,\n",
       " 1,\n",
       " 1,\n",
       " 1,\n",
       " 1,\n",
       " 1,\n",
       " 1,\n",
       " 1,\n",
       " 1,\n",
       " 1,\n",
       " 1,\n",
       " 1,\n",
       " 1,\n",
       " 1,\n",
       " 1,\n",
       " 1,\n",
       " 1,\n",
       " 1,\n",
       " 1,\n",
       " 1,\n",
       " 1,\n",
       " 0,\n",
       " 0,\n",
       " 0,\n",
       " 0,\n",
       " 0,\n",
       " 0,\n",
       " 0,\n",
       " 0]"
      ]
     },
     "execution_count": 51,
     "metadata": {},
     "output_type": "execute_result"
    }
   ],
   "source": [
    "one"
   ]
  },
  {
   "cell_type": "code",
   "execution_count": 52,
   "id": "02325ae4-6193-439c-bfd6-c144de03aa53",
   "metadata": {},
   "outputs": [],
   "source": [
    "two= ['1_2.txt'] + [0]*len(dict_)"
   ]
  },
  {
   "cell_type": "code",
   "execution_count": 53,
   "id": "7cbc53f5-835d-4c30-9cb0-9a7914f9d27e",
   "metadata": {},
   "outputs": [],
   "source": [
    "with open('1_2.txt', 'r+') as f:\n",
    "    \n",
    "    word= f.read().lower().split()\n",
    "    for w in word:\n",
    "        if w in dict_:\n",
    "            two[dict_[w]] += 1\n"
   ]
  },
  {
   "cell_type": "code",
   "execution_count": 54,
   "id": "fb6c2b80-6eed-4fd6-acd5-e88964e75db1",
   "metadata": {},
   "outputs": [
    {
     "data": {
      "text/plain": [
       "['1_1.txt',\n",
       " 1,\n",
       " 2,\n",
       " 1,\n",
       " 1,\n",
       " 1,\n",
       " 6,\n",
       " 6,\n",
       " 2,\n",
       " 2,\n",
       " 1,\n",
       " 1,\n",
       " 1,\n",
       " 1,\n",
       " 2,\n",
       " 5,\n",
       " 4,\n",
       " 1,\n",
       " 1,\n",
       " 1,\n",
       " 5,\n",
       " 1,\n",
       " 3,\n",
       " 3,\n",
       " 2,\n",
       " 1,\n",
       " 1,\n",
       " 1,\n",
       " 1,\n",
       " 1,\n",
       " 1,\n",
       " 1,\n",
       " 1,\n",
       " 1,\n",
       " 1,\n",
       " 1,\n",
       " 1,\n",
       " 1,\n",
       " 1,\n",
       " 1,\n",
       " 1,\n",
       " 1,\n",
       " 1,\n",
       " 1,\n",
       " 1,\n",
       " 1,\n",
       " 1,\n",
       " 1,\n",
       " 1,\n",
       " 1,\n",
       " 1,\n",
       " 1,\n",
       " 1,\n",
       " 1,\n",
       " 1,\n",
       " 1,\n",
       " 1,\n",
       " 1,\n",
       " 1,\n",
       " 1,\n",
       " 0,\n",
       " 0,\n",
       " 0,\n",
       " 0,\n",
       " 0,\n",
       " 0,\n",
       " 0,\n",
       " 0]"
      ]
     },
     "execution_count": 54,
     "metadata": {},
     "output_type": "execute_result"
    }
   ],
   "source": [
    "one"
   ]
  },
  {
   "cell_type": "code",
   "execution_count": null,
   "id": "882a17dd-837d-4b0e-9a89-3984e60f3ba8",
   "metadata": {},
   "outputs": [],
   "source": []
  },
  {
   "cell_type": "code",
   "execution_count": 55,
   "id": "55fbf0d6-5396-439e-9c91-884630b64324",
   "metadata": {},
   "outputs": [
    {
     "data": {
      "text/plain": [
       "['1_2.txt',\n",
       " 1,\n",
       " 2,\n",
       " 1,\n",
       " 1,\n",
       " 0,\n",
       " 6,\n",
       " 6,\n",
       " 2,\n",
       " 2,\n",
       " 1,\n",
       " 1,\n",
       " 1,\n",
       " 1,\n",
       " 2,\n",
       " 5,\n",
       " 4,\n",
       " 1,\n",
       " 1,\n",
       " 1,\n",
       " 6,\n",
       " 1,\n",
       " 3,\n",
       " 3,\n",
       " 2,\n",
       " 1,\n",
       " 1,\n",
       " 1,\n",
       " 1,\n",
       " 1,\n",
       " 1,\n",
       " 1,\n",
       " 1,\n",
       " 1,\n",
       " 1,\n",
       " 1,\n",
       " 1,\n",
       " 1,\n",
       " 1,\n",
       " 1,\n",
       " 1,\n",
       " 1,\n",
       " 1,\n",
       " 1,\n",
       " 1,\n",
       " 1,\n",
       " 1,\n",
       " 1,\n",
       " 1,\n",
       " 1,\n",
       " 1,\n",
       " 1,\n",
       " 1,\n",
       " 1,\n",
       " 1,\n",
       " 1,\n",
       " 1,\n",
       " 1,\n",
       " 1,\n",
       " 1,\n",
       " 1,\n",
       " 1,\n",
       " 1,\n",
       " 1,\n",
       " 1,\n",
       " 1,\n",
       " 1,\n",
       " 1]"
      ]
     },
     "execution_count": 55,
     "metadata": {},
     "output_type": "execute_result"
    }
   ],
   "source": [
    "two\n"
   ]
  },
  {
   "cell_type": "code",
   "execution_count": null,
   "id": "d746d0ff-f3c8-4bf3-a083-e441d1dfe149",
   "metadata": {},
   "outputs": [],
   "source": []
  },
  {
   "cell_type": "code",
   "execution_count": 56,
   "id": "96c0d7ce-ea3f-411f-9ecf-9e23cbbcb1dd",
   "metadata": {},
   "outputs": [
    {
     "name": "stderr",
     "output_type": "stream",
     "text": [
      "<frozen importlib._bootstrap>:219: RuntimeWarning: scipy._lib.messagestream.MessageStream size changed, may indicate binary incompatibility. Expected 56 from C header, got 64 from PyObject\n"
     ]
    }
   ],
   "source": [
    "import sklearn"
   ]
  },
  {
   "cell_type": "code",
   "execution_count": 57,
   "id": "12a9c449-6f08-4c03-995c-127db739d0da",
   "metadata": {},
   "outputs": [],
   "source": [
    "import pandas as pd"
   ]
  },
  {
   "cell_type": "code",
   "execution_count": 58,
   "id": "5d177a8a-17d8-44c7-8cee-a5432fc7f395",
   "metadata": {},
   "outputs": [],
   "source": [
    "file= pd.read_csv(r\"C:\\Users\\Asus\\Music\\SpamHam.tsv\")"
   ]
  },
  {
   "cell_type": "code",
   "execution_count": 59,
   "id": "c381e27e-29ec-4d56-a197-5a90629d29aa",
   "metadata": {},
   "outputs": [],
   "source": [
    "from sklearn.model_selection import train_test_split as tts"
   ]
  },
  {
   "cell_type": "code",
   "execution_count": 60,
   "id": "f689635c-cc10-49e7-a59a-327c37818704",
   "metadata": {},
   "outputs": [
    {
     "data": {
      "text/html": [
       "<div>\n",
       "<style scoped>\n",
       "    .dataframe tbody tr th:only-of-type {\n",
       "        vertical-align: middle;\n",
       "    }\n",
       "\n",
       "    .dataframe tbody tr th {\n",
       "        vertical-align: top;\n",
       "    }\n",
       "\n",
       "    .dataframe thead th {\n",
       "        text-align: right;\n",
       "    }\n",
       "</style>\n",
       "<table border=\"1\" class=\"dataframe\">\n",
       "  <thead>\n",
       "    <tr style=\"text-align: right;\">\n",
       "      <th></th>\n",
       "      <th>v1</th>\n",
       "      <th>v2</th>\n",
       "      <th>Unnamed: 2</th>\n",
       "      <th>Unnamed: 3</th>\n",
       "      <th>Unnamed: 4</th>\n",
       "    </tr>\n",
       "  </thead>\n",
       "  <tbody>\n",
       "    <tr>\n",
       "      <th>0</th>\n",
       "      <td>ham</td>\n",
       "      <td>Go until jurong point, crazy.. Available only ...</td>\n",
       "      <td>NaN</td>\n",
       "      <td>NaN</td>\n",
       "      <td>NaN</td>\n",
       "    </tr>\n",
       "    <tr>\n",
       "      <th>1</th>\n",
       "      <td>ham</td>\n",
       "      <td>Ok lar... Joking wif u oni...</td>\n",
       "      <td>NaN</td>\n",
       "      <td>NaN</td>\n",
       "      <td>NaN</td>\n",
       "    </tr>\n",
       "    <tr>\n",
       "      <th>2</th>\n",
       "      <td>spam</td>\n",
       "      <td>Free entry in 2 a wkly comp to win FA Cup fina...</td>\n",
       "      <td>NaN</td>\n",
       "      <td>NaN</td>\n",
       "      <td>NaN</td>\n",
       "    </tr>\n",
       "    <tr>\n",
       "      <th>3</th>\n",
       "      <td>ham</td>\n",
       "      <td>U dun say so early hor... U c already then say...</td>\n",
       "      <td>NaN</td>\n",
       "      <td>NaN</td>\n",
       "      <td>NaN</td>\n",
       "    </tr>\n",
       "    <tr>\n",
       "      <th>4</th>\n",
       "      <td>ham</td>\n",
       "      <td>Nah I don't think he goes to usf, he lives aro...</td>\n",
       "      <td>NaN</td>\n",
       "      <td>NaN</td>\n",
       "      <td>NaN</td>\n",
       "    </tr>\n",
       "  </tbody>\n",
       "</table>\n",
       "</div>"
      ],
      "text/plain": [
       "     v1                                                 v2 Unnamed: 2  \\\n",
       "0   ham  Go until jurong point, crazy.. Available only ...        NaN   \n",
       "1   ham                      Ok lar... Joking wif u oni...        NaN   \n",
       "2  spam  Free entry in 2 a wkly comp to win FA Cup fina...        NaN   \n",
       "3   ham  U dun say so early hor... U c already then say...        NaN   \n",
       "4   ham  Nah I don't think he goes to usf, he lives aro...        NaN   \n",
       "\n",
       "  Unnamed: 3 Unnamed: 4  \n",
       "0        NaN        NaN  \n",
       "1        NaN        NaN  \n",
       "2        NaN        NaN  \n",
       "3        NaN        NaN  \n",
       "4        NaN        NaN  "
      ]
     },
     "execution_count": 60,
     "metadata": {},
     "output_type": "execute_result"
    }
   ],
   "source": [
    "file.head()"
   ]
  },
  {
   "cell_type": "code",
   "execution_count": 62,
   "id": "5149eaf6-ce44-47e1-9bce-6278ee21553e",
   "metadata": {},
   "outputs": [],
   "source": [
    "file.drop(file.columns[2:], axis= 1, inplace=True)"
   ]
  },
  {
   "cell_type": "code",
   "execution_count": 63,
   "id": "caf7e9be-af37-494e-a6e5-f073c009fdfd",
   "metadata": {},
   "outputs": [
    {
     "data": {
      "text/html": [
       "<div>\n",
       "<style scoped>\n",
       "    .dataframe tbody tr th:only-of-type {\n",
       "        vertical-align: middle;\n",
       "    }\n",
       "\n",
       "    .dataframe tbody tr th {\n",
       "        vertical-align: top;\n",
       "    }\n",
       "\n",
       "    .dataframe thead th {\n",
       "        text-align: right;\n",
       "    }\n",
       "</style>\n",
       "<table border=\"1\" class=\"dataframe\">\n",
       "  <thead>\n",
       "    <tr style=\"text-align: right;\">\n",
       "      <th></th>\n",
       "      <th>v1</th>\n",
       "      <th>v2</th>\n",
       "    </tr>\n",
       "  </thead>\n",
       "  <tbody>\n",
       "    <tr>\n",
       "      <th>0</th>\n",
       "      <td>ham</td>\n",
       "      <td>Go until jurong point, crazy.. Available only ...</td>\n",
       "    </tr>\n",
       "    <tr>\n",
       "      <th>1</th>\n",
       "      <td>ham</td>\n",
       "      <td>Ok lar... Joking wif u oni...</td>\n",
       "    </tr>\n",
       "    <tr>\n",
       "      <th>2</th>\n",
       "      <td>spam</td>\n",
       "      <td>Free entry in 2 a wkly comp to win FA Cup fina...</td>\n",
       "    </tr>\n",
       "    <tr>\n",
       "      <th>3</th>\n",
       "      <td>ham</td>\n",
       "      <td>U dun say so early hor... U c already then say...</td>\n",
       "    </tr>\n",
       "    <tr>\n",
       "      <th>4</th>\n",
       "      <td>ham</td>\n",
       "      <td>Nah I don't think he goes to usf, he lives aro...</td>\n",
       "    </tr>\n",
       "  </tbody>\n",
       "</table>\n",
       "</div>"
      ],
      "text/plain": [
       "     v1                                                 v2\n",
       "0   ham  Go until jurong point, crazy.. Available only ...\n",
       "1   ham                      Ok lar... Joking wif u oni...\n",
       "2  spam  Free entry in 2 a wkly comp to win FA Cup fina...\n",
       "3   ham  U dun say so early hor... U c already then say...\n",
       "4   ham  Nah I don't think he goes to usf, he lives aro..."
      ]
     },
     "execution_count": 63,
     "metadata": {},
     "output_type": "execute_result"
    }
   ],
   "source": [
    "file.head()"
   ]
  },
  {
   "cell_type": "code",
   "execution_count": 85,
   "id": "6fa715df-9b8f-4d3b-b04e-dc7b59223ad8",
   "metadata": {},
   "outputs": [],
   "source": [
    "X= file['v1']"
   ]
  },
  {
   "cell_type": "code",
   "execution_count": 86,
   "id": "a93e5d10-dc21-4a2d-8377-5991505dff3c",
   "metadata": {},
   "outputs": [],
   "source": [
    "y= file['v2']"
   ]
  },
  {
   "cell_type": "code",
   "execution_count": 87,
   "id": "926bfb9b-12ae-4869-9e82-58c061e1fece",
   "metadata": {},
   "outputs": [],
   "source": [
    "X_train, X_test, y_train, y_test= tts(X,y, test_size=0.3,)"
   ]
  },
  {
   "cell_type": "code",
   "execution_count": 88,
   "id": "bdbfce16-031d-4a4a-8d70-2281f262badd",
   "metadata": {},
   "outputs": [],
   "source": [
    "from sklearn.feature_extraction.text import CountVectorizer"
   ]
  },
  {
   "cell_type": "code",
   "execution_count": 89,
   "id": "ea6ec8a3-3a26-43be-afd7-f12876ba266a",
   "metadata": {},
   "outputs": [],
   "source": [
    "cv= CountVectorizer()"
   ]
  },
  {
   "cell_type": "code",
   "execution_count": 90,
   "id": "3946719f-4e38-4eb7-a901-7c5115c88eb3",
   "metadata": {},
   "outputs": [
    {
     "data": {
      "text/plain": [
       "<3900x2 sparse matrix of type '<class 'numpy.int64'>'\n",
       "\twith 3900 stored elements in Compressed Sparse Row format>"
      ]
     },
     "execution_count": 90,
     "metadata": {},
     "output_type": "execute_result"
    }
   ],
   "source": [
    "cv.fit_transform(X_train)"
   ]
  },
  {
   "cell_type": "code",
   "execution_count": 73,
   "id": "e9524589-8b2b-4633-9707-fd6617bef03f",
   "metadata": {},
   "outputs": [],
   "source": [
    "vect_x_train=cv.fit_transform(X_train)"
   ]
  },
  {
   "cell_type": "code",
   "execution_count": 78,
   "id": "43bf3613-81a5-4ef6-b3b3-6e09c4d95cbf",
   "metadata": {},
   "outputs": [
    {
     "data": {
      "text/plain": [
       "(1, 2)"
      ]
     },
     "execution_count": 78,
     "metadata": {},
     "output_type": "execute_result"
    }
   ],
   "source": [
    "vect_x_train[2].shape\n"
   ]
  },
  {
   "cell_type": "code",
   "execution_count": 79,
   "id": "9646b264-4aab-44d4-98fa-ae77cc1f9bdf",
   "metadata": {},
   "outputs": [],
   "source": [
    "from sklearn.feature_extraction.text import TfidfTransformer "
   ]
  },
  {
   "cell_type": "code",
   "execution_count": 80,
   "id": "70f9aa20-4a7d-4a07-bd98-898fe2200583",
   "metadata": {},
   "outputs": [],
   "source": [
    "tf= TfidfTransformer()"
   ]
  },
  {
   "cell_type": "code",
   "execution_count": 82,
   "id": "4ac945ed-b8e8-42a0-b9ac-5d0e8c115fea",
   "metadata": {},
   "outputs": [],
   "source": [
    "x_train_tf_idf=tf.fit_transform(vect_x_train)"
   ]
  },
  {
   "cell_type": "code",
   "execution_count": 83,
   "id": "1dc17faf-f1ae-4880-9172-3b2556157ea3",
   "metadata": {},
   "outputs": [
    {
     "data": {
      "text/plain": [
       "(3900, 2)"
      ]
     },
     "execution_count": 83,
     "metadata": {},
     "output_type": "execute_result"
    }
   ],
   "source": [
    "x_train_tf_idf.shape"
   ]
  },
  {
   "cell_type": "code",
   "execution_count": 91,
   "id": "11ebf9f9-06b0-481b-8a34-f34fd0abbc4f",
   "metadata": {},
   "outputs": [],
   "source": [
    "from sklearn.feature_extraction.text import TfidfVectorizer"
   ]
  },
  {
   "cell_type": "code",
   "execution_count": 92,
   "id": "bea2a9cb-7d0b-41be-b9b9-73125e79fa50",
   "metadata": {},
   "outputs": [],
   "source": [
    "tv= TfidfVectorizer()"
   ]
  },
  {
   "cell_type": "code",
   "execution_count": 93,
   "id": "b532dd43-0dbc-436c-a5b7-e781ace25751",
   "metadata": {},
   "outputs": [
    {
     "data": {
      "text/plain": [
       "<3900x2 sparse matrix of type '<class 'numpy.float64'>'\n",
       "\twith 3900 stored elements in Compressed Sparse Row format>"
      ]
     },
     "execution_count": 93,
     "metadata": {},
     "output_type": "execute_result"
    }
   ],
   "source": [
    "tv.fit_transform(X_train)"
   ]
  },
  {
   "cell_type": "code",
   "execution_count": null,
   "id": "0a8af2ea-4025-44a4-9824-31e0382f5cbc",
   "metadata": {},
   "outputs": [],
   "source": []
  }
 ],
 "metadata": {
  "kernelspec": {
   "display_name": "Python 3",
   "language": "python",
   "name": "python3"
  },
  "language_info": {
   "codemirror_mode": {
    "name": "ipython",
    "version": 3
   },
   "file_extension": ".py",
   "mimetype": "text/x-python",
   "name": "python",
   "nbconvert_exporter": "python",
   "pygments_lexer": "ipython3",
   "version": "3.8.5"
  }
 },
 "nbformat": 4,
 "nbformat_minor": 5
}
