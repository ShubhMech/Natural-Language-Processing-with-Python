{
 "cells": [
  {
   "cell_type": "code",
   "execution_count": 1,
   "id": "8974ca2e-ba11-48e3-ab48-a9f0d9e66048",
   "metadata": {},
   "outputs": [],
   "source": [
    "import spacy "
   ]
  },
  {
   "cell_type": "code",
   "execution_count": 3,
   "id": "04aec19e-b4ce-45ef-864c-37e362ee232e",
   "metadata": {},
   "outputs": [],
   "source": [
    "nlp= spacy.load('en_core_web_md')"
   ]
  },
  {
   "cell_type": "code",
   "execution_count": 52,
   "id": "0f431b5f-1a42-409e-b83e-0c1a71339453",
   "metadata": {},
   "outputs": [],
   "source": [
    "text= \"Russia has invaded Ukraine and USA is doing almost nothing to stop the war. It wants the war to prolong so that they could sanction the Russia for their own benefit. They dont care about the people of Ukraine\"\n",
    "doc= nlp(text)"
   ]
  },
  {
   "cell_type": "code",
   "execution_count": 53,
   "id": "5e17de4a-2194-40ee-b80e-b4ef64c608c2",
   "metadata": {},
   "outputs": [
    {
     "name": "stdout",
     "output_type": "stream",
     "text": [
      "Type: <class 'spacy.tokens.token.Token'>, Part of Speech: PROPN  , Dependents nsubj  , Has vector? True , Text: Russia\n",
      "Type: <class 'spacy.tokens.token.Token'>, Part of Speech: AUX    , Dependents aux    , Has vector? True , Text: has\n",
      "Type: <class 'spacy.tokens.token.Token'>, Part of Speech: VERB   , Dependents ROOT   , Has vector? True , Text: invaded\n",
      "Type: <class 'spacy.tokens.token.Token'>, Part of Speech: PROPN  , Dependents dobj   , Has vector? True , Text: Ukraine\n",
      "Type: <class 'spacy.tokens.token.Token'>, Part of Speech: CCONJ  , Dependents cc     , Has vector? True , Text: and\n",
      "Type: <class 'spacy.tokens.token.Token'>, Part of Speech: PROPN  , Dependents nsubj  , Has vector? True , Text: USA\n",
      "Type: <class 'spacy.tokens.token.Token'>, Part of Speech: AUX    , Dependents aux    , Has vector? True , Text: is\n",
      "Type: <class 'spacy.tokens.token.Token'>, Part of Speech: VERB   , Dependents conj   , Has vector? True , Text: doing\n",
      "Type: <class 'spacy.tokens.token.Token'>, Part of Speech: ADV    , Dependents advmod , Has vector? True , Text: almost\n",
      "Type: <class 'spacy.tokens.token.Token'>, Part of Speech: PRON   , Dependents dobj   , Has vector? True , Text: nothing\n",
      "Type: <class 'spacy.tokens.token.Token'>, Part of Speech: PART   , Dependents aux    , Has vector? True , Text: to\n",
      "Type: <class 'spacy.tokens.token.Token'>, Part of Speech: VERB   , Dependents relcl  , Has vector? True , Text: stop\n",
      "Type: <class 'spacy.tokens.token.Token'>, Part of Speech: DET    , Dependents det    , Has vector? True , Text: the\n",
      "Type: <class 'spacy.tokens.token.Token'>, Part of Speech: NOUN   , Dependents dobj   , Has vector? True , Text: war\n",
      "Type: <class 'spacy.tokens.token.Token'>, Part of Speech: PUNCT  , Dependents punct  , Has vector? True , Text: .\n",
      "Type: <class 'spacy.tokens.token.Token'>, Part of Speech: PRON   , Dependents nsubj  , Has vector? True , Text: It\n",
      "Type: <class 'spacy.tokens.token.Token'>, Part of Speech: VERB   , Dependents ROOT   , Has vector? True , Text: wants\n",
      "Type: <class 'spacy.tokens.token.Token'>, Part of Speech: DET    , Dependents det    , Has vector? True , Text: the\n",
      "Type: <class 'spacy.tokens.token.Token'>, Part of Speech: NOUN   , Dependents nsubj  , Has vector? True , Text: war\n",
      "Type: <class 'spacy.tokens.token.Token'>, Part of Speech: PART   , Dependents aux    , Has vector? True , Text: to\n",
      "Type: <class 'spacy.tokens.token.Token'>, Part of Speech: VERB   , Dependents ccomp  , Has vector? True , Text: prolong\n",
      "Type: <class 'spacy.tokens.token.Token'>, Part of Speech: SCONJ  , Dependents mark   , Has vector? True , Text: so\n",
      "Type: <class 'spacy.tokens.token.Token'>, Part of Speech: SCONJ  , Dependents mark   , Has vector? True , Text: that\n",
      "Type: <class 'spacy.tokens.token.Token'>, Part of Speech: PRON   , Dependents nsubj  , Has vector? True , Text: they\n",
      "Type: <class 'spacy.tokens.token.Token'>, Part of Speech: AUX    , Dependents aux    , Has vector? True , Text: could\n",
      "Type: <class 'spacy.tokens.token.Token'>, Part of Speech: VERB   , Dependents advcl  , Has vector? True , Text: sanction\n",
      "Type: <class 'spacy.tokens.token.Token'>, Part of Speech: DET    , Dependents det    , Has vector? True , Text: the\n",
      "Type: <class 'spacy.tokens.token.Token'>, Part of Speech: PROPN  , Dependents dobj   , Has vector? True , Text: Russia\n",
      "Type: <class 'spacy.tokens.token.Token'>, Part of Speech: ADP    , Dependents prep   , Has vector? True , Text: for\n",
      "Type: <class 'spacy.tokens.token.Token'>, Part of Speech: PRON   , Dependents poss   , Has vector? True , Text: their\n",
      "Type: <class 'spacy.tokens.token.Token'>, Part of Speech: ADJ    , Dependents amod   , Has vector? True , Text: own\n",
      "Type: <class 'spacy.tokens.token.Token'>, Part of Speech: NOUN   , Dependents pobj   , Has vector? True , Text: benefit\n",
      "Type: <class 'spacy.tokens.token.Token'>, Part of Speech: PUNCT  , Dependents punct  , Has vector? True , Text: .\n",
      "Type: <class 'spacy.tokens.token.Token'>, Part of Speech: PRON   , Dependents nsubj  , Has vector? True , Text: They\n",
      "Type: <class 'spacy.tokens.token.Token'>, Part of Speech: AUX    , Dependents aux    , Has vector? True , Text: do\n",
      "Type: <class 'spacy.tokens.token.Token'>, Part of Speech: PART   , Dependents neg    , Has vector? True , Text: nt\n",
      "Type: <class 'spacy.tokens.token.Token'>, Part of Speech: VERB   , Dependents ROOT   , Has vector? True , Text: care\n",
      "Type: <class 'spacy.tokens.token.Token'>, Part of Speech: ADP    , Dependents prep   , Has vector? True , Text: about\n",
      "Type: <class 'spacy.tokens.token.Token'>, Part of Speech: DET    , Dependents det    , Has vector? True , Text: the\n",
      "Type: <class 'spacy.tokens.token.Token'>, Part of Speech: NOUN   , Dependents pobj   , Has vector? True , Text: people\n",
      "Type: <class 'spacy.tokens.token.Token'>, Part of Speech: ADP    , Dependents prep   , Has vector? True , Text: of\n",
      "Type: <class 'spacy.tokens.token.Token'>, Part of Speech: PROPN  , Dependents pobj   , Has vector? True , Text: Ukraine\n"
     ]
    }
   ],
   "source": [
    "for tokens in doc:\n",
    "    print(f\"Type: {type(tokens)}, Part of Speech: {tokens.pos_ :{7}}, Dependents {tokens.dep_ :{7}}, Has vector? {tokens.has_vector} , Text: {tokens.text}\")"
   ]
  },
  {
   "cell_type": "code",
   "execution_count": null,
   "id": "c700f8f7-71cd-4a8c-a43f-f37705afc1d9",
   "metadata": {},
   "outputs": [],
   "source": []
  },
  {
   "cell_type": "code",
   "execution_count": 54,
   "id": "4de2f5e6-3dcc-4898-8b40-fbfcf397e15f",
   "metadata": {},
   "outputs": [
    {
     "data": {
      "text/plain": [
       "'Russia'"
      ]
     },
     "execution_count": 54,
     "metadata": {},
     "output_type": "execute_result"
    }
   ],
   "source": [
    "doc[0].lemma_"
   ]
  },
  {
   "cell_type": "code",
   "execution_count": 55,
   "id": "45dc41fe-54ba-4d2f-a983-f52585210010",
   "metadata": {},
   "outputs": [
    {
     "data": {
      "text/plain": [
       "'PROPN'"
      ]
     },
     "execution_count": 55,
     "metadata": {},
     "output_type": "execute_result"
    }
   ],
   "source": [
    "doc[0].pos_"
   ]
  },
  {
   "cell_type": "code",
   "execution_count": 56,
   "id": "054f1445-231b-4ffd-9396-4970d63bdb39",
   "metadata": {},
   "outputs": [
    {
     "data": {
      "text/plain": [
       "'NNP'"
      ]
     },
     "execution_count": 56,
     "metadata": {},
     "output_type": "execute_result"
    }
   ],
   "source": [
    "doc[0].tag_"
   ]
  },
  {
   "cell_type": "code",
   "execution_count": 57,
   "id": "626510ec-9add-4354-bb64-f641e8a2a81c",
   "metadata": {},
   "outputs": [
    {
     "data": {
      "text/plain": [
       "False"
      ]
     },
     "execution_count": 57,
     "metadata": {},
     "output_type": "execute_result"
    }
   ],
   "source": [
    "doc[0].is_stop"
   ]
  },
  {
   "cell_type": "code",
   "execution_count": 58,
   "id": "b8aae210-dee9-40b4-9718-9b744c35939b",
   "metadata": {},
   "outputs": [
    {
     "data": {
      "text/plain": [
       "True"
      ]
     },
     "execution_count": 58,
     "metadata": {},
     "output_type": "execute_result"
    }
   ],
   "source": [
    "doc[6].is_stop"
   ]
  },
  {
   "cell_type": "code",
   "execution_count": 59,
   "id": "34327ac2-2dde-46d9-bbe3-c34c28fc4774",
   "metadata": {},
   "outputs": [
    {
     "data": {
      "text/plain": [
       "False"
      ]
     },
     "execution_count": 59,
     "metadata": {},
     "output_type": "execute_result"
    }
   ],
   "source": [
    "doc[6].is_sent_start"
   ]
  },
  {
   "cell_type": "code",
   "execution_count": 60,
   "id": "d4f9f7e6-4201-4912-bcf7-3faf703eeb49",
   "metadata": {},
   "outputs": [
    {
     "data": {
      "text/plain": [
       "'Countries, cities, states'"
      ]
     },
     "execution_count": 60,
     "metadata": {},
     "output_type": "execute_result"
    }
   ],
   "source": [
    "spacy.explain(doc.ents[0].label_)"
   ]
  },
  {
   "cell_type": "code",
   "execution_count": 61,
   "id": "3f9d8b62-9597-4a03-b84f-ab86d6f05036",
   "metadata": {},
   "outputs": [
    {
     "data": {
      "text/plain": [
       "'GPE'"
      ]
     },
     "execution_count": 61,
     "metadata": {},
     "output_type": "execute_result"
    }
   ],
   "source": [
    "doc.ents[0].label_"
   ]
  },
  {
   "cell_type": "code",
   "execution_count": 62,
   "id": "804d8eed-b403-4c07-82a2-5c1a1681474e",
   "metadata": {},
   "outputs": [
    {
     "data": {
      "text/plain": [
       "Russia"
      ]
     },
     "execution_count": 62,
     "metadata": {},
     "output_type": "execute_result"
    }
   ],
   "source": [
    "doc.ents[0]"
   ]
  },
  {
   "cell_type": "code",
   "execution_count": 63,
   "id": "df22b96b-1060-42c5-929b-0f329c22bf15",
   "metadata": {},
   "outputs": [
    {
     "name": "stdout",
     "output_type": "stream",
     "text": [
      "Russia GPE Countries, cities, states\n",
      "Ukraine GPE Countries, cities, states\n",
      "USA GPE Countries, cities, states\n",
      "Russia GPE Countries, cities, states\n",
      "Ukraine GPE Countries, cities, states\n"
     ]
    }
   ],
   "source": [
    "for ent in  doc.ents:\n",
    "    print(ent, ent.label_, spacy.explain(ent.label_))"
   ]
  },
  {
   "cell_type": "code",
   "execution_count": 64,
   "id": "3b007a58-cca0-496f-b202-362dccd9c84f",
   "metadata": {},
   "outputs": [
    {
     "name": "stdout",
     "output_type": "stream",
     "text": [
      "Russia\n",
      "Ukraine\n",
      "USA\n",
      "almost nothing\n",
      "the war\n",
      "It\n",
      "the war\n",
      "they\n",
      "the Russia\n",
      "their own benefit\n",
      "They\n",
      "the people\n",
      "Ukraine\n"
     ]
    }
   ],
   "source": [
    "for chunks in doc.noun_chunks:\n",
    "    print(chunks\n",
    "         )"
   ]
  },
  {
   "cell_type": "code",
   "execution_count": 65,
   "id": "cef8d1eb-8377-43d2-af85-5c71004de32b",
   "metadata": {},
   "outputs": [
    {
     "data": {
      "text/plain": [
       "Russia has invaded Ukraine and USA is doing almost nothing to stop the war. It wants the war to prolong so that they could sanction the Russia for their own benefit. They dont care about the people of Ukraine"
      ]
     },
     "execution_count": 65,
     "metadata": {},
     "output_type": "execute_result"
    }
   ],
   "source": [
    "doc"
   ]
  },
  {
   "cell_type": "code",
   "execution_count": null,
   "id": "2c122e88-95fe-40f8-b3f4-507b247c8aa3",
   "metadata": {},
   "outputs": [],
   "source": []
  },
  {
   "cell_type": "code",
   "execution_count": null,
   "id": "cb0daea8-b7db-4e9e-af42-473bb5720c55",
   "metadata": {},
   "outputs": [],
   "source": []
  }
 ],
 "metadata": {
  "kernelspec": {
   "display_name": "Python 3",
   "language": "python",
   "name": "python3"
  },
  "language_info": {
   "codemirror_mode": {
    "name": "ipython",
    "version": 3
   },
   "file_extension": ".py",
   "mimetype": "text/x-python",
   "name": "python",
   "nbconvert_exporter": "python",
   "pygments_lexer": "ipython3",
   "version": "3.8.5"
  }
 },
 "nbformat": 4,
 "nbformat_minor": 5
}
