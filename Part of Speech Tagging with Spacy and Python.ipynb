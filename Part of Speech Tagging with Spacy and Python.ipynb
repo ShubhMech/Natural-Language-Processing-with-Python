{
 "cells": [
  {
   "cell_type": "code",
   "execution_count": 1,
   "id": "52747bd0-4fdc-46c9-9d48-40621abd95b6",
   "metadata": {},
   "outputs": [],
   "source": [
    "import spacy\n",
    "nlp = spacy.load('en_core_web_sm')"
   ]
  },
  {
   "cell_type": "code",
   "execution_count": 10,
   "id": "110960f5-7643-4844-824a-fded669577bd",
   "metadata": {},
   "outputs": [
    {
     "name": "stdout",
     "output_type": "stream",
     "text": [
      "Overwriting 1_1.txt\n"
     ]
    }
   ],
   "source": [
    "%%writefile 1_1.txt\n",
    "\"Hey, my name is Shubham, I am a Data Scientist working for Pfizer. I am proficient in Advanced Python, Advanced R, Advanced EXCEL and Advanced SQL. I am also an expert in Machine Learning Algorithms, Natural Language Processing, Deep Learning, and Big Data. I am also proficient in Amazon AWS and data Visualisation Techniques like Power BI and Tableau. I am an asset to my organisation. I am also an expert in modelling complex optimization problems and have a strong hold in the Operations Reserach Domain.\""
   ]
  },
  {
   "cell_type": "code",
   "execution_count": 11,
   "id": "ef2f786c-9c3b-4d05-b7f5-31ff203d96d5",
   "metadata": {},
   "outputs": [],
   "source": [
    "doc= nlp(open(r\"1_1.txt\",'r').read())"
   ]
  },
  {
   "cell_type": "code",
   "execution_count": 12,
   "id": "e676029a-08ff-4c3f-a448-8fda1bd0de68",
   "metadata": {},
   "outputs": [
    {
     "data": {
      "text/plain": [
       ","
      ]
     },
     "execution_count": 12,
     "metadata": {},
     "output_type": "execute_result"
    }
   ],
   "source": [
    "doc[7]"
   ]
  },
  {
   "cell_type": "code",
   "execution_count": 13,
   "id": "264761fb-baae-4fe1-a1bd-fb5f6739361a",
   "metadata": {},
   "outputs": [
    {
     "data": {
      "text/plain": [
       "I"
      ]
     },
     "execution_count": 13,
     "metadata": {},
     "output_type": "execute_result"
    }
   ],
   "source": [
    "doc[8]"
   ]
  },
  {
   "cell_type": "code",
   "execution_count": 18,
   "id": "251c2fbb-8f0c-4026-8c8e-676418784c95",
   "metadata": {},
   "outputs": [
    {
     "name": "stdout",
     "output_type": "stream",
     "text": [
      "\" >>> PUNCT >>> `` >>> opening quotation mark\n",
      "Hey >>> INTJ >>> UH >>> interjection\n",
      ", >>> PUNCT >>> , >>> punctuation mark, comma\n",
      "my >>> PRON >>> PRP$ >>> pronoun, possessive\n",
      "name >>> NOUN >>> NN >>> noun, singular or mass\n",
      "is >>> AUX >>> VBZ >>> verb, 3rd person singular present\n",
      "Shubham >>> PROPN >>> NNP >>> noun, proper singular\n",
      ", >>> PUNCT >>> , >>> punctuation mark, comma\n",
      "I >>> PRON >>> PRP >>> pronoun, personal\n",
      "am >>> AUX >>> VBP >>> verb, non-3rd person singular present\n",
      "a >>> DET >>> DT >>> determiner\n",
      "Data >>> PROPN >>> NNP >>> noun, proper singular\n",
      "Scientist >>> PROPN >>> NNP >>> noun, proper singular\n",
      "working >>> VERB >>> VBG >>> verb, gerund or present participle\n",
      "for >>> ADP >>> IN >>> conjunction, subordinating or preposition\n",
      "Pfizer >>> PROPN >>> NNP >>> noun, proper singular\n",
      ". >>> PUNCT >>> . >>> punctuation mark, sentence closer\n",
      "I >>> PRON >>> PRP >>> pronoun, personal\n",
      "am >>> AUX >>> VBP >>> verb, non-3rd person singular present\n",
      "proficient >>> ADJ >>> JJ >>> adjective (English), other noun-modifier (Chinese)\n",
      "in >>> ADP >>> IN >>> conjunction, subordinating or preposition\n",
      "Advanced >>> PROPN >>> NNP >>> noun, proper singular\n",
      "Python >>> PROPN >>> NNP >>> noun, proper singular\n",
      ", >>> PUNCT >>> , >>> punctuation mark, comma\n",
      "Advanced >>> ADJ >>> JJ >>> adjective (English), other noun-modifier (Chinese)\n",
      "R >>> NOUN >>> NN >>> noun, singular or mass\n",
      ", >>> PUNCT >>> , >>> punctuation mark, comma\n",
      "Advanced >>> ADJ >>> JJ >>> adjective (English), other noun-modifier (Chinese)\n",
      "EXCEL >>> PROPN >>> NNP >>> noun, proper singular\n",
      "and >>> CCONJ >>> CC >>> conjunction, coordinating\n",
      "Advanced >>> ADJ >>> JJ >>> adjective (English), other noun-modifier (Chinese)\n",
      "SQL >>> PROPN >>> NNP >>> noun, proper singular\n",
      ". >>> PUNCT >>> . >>> punctuation mark, sentence closer\n",
      "I >>> PRON >>> PRP >>> pronoun, personal\n",
      "am >>> AUX >>> VBP >>> verb, non-3rd person singular present\n",
      "also >>> ADV >>> RB >>> adverb\n",
      "an >>> DET >>> DT >>> determiner\n",
      "expert >>> NOUN >>> NN >>> noun, singular or mass\n",
      "in >>> ADP >>> IN >>> conjunction, subordinating or preposition\n",
      "Machine >>> PROPN >>> NNP >>> noun, proper singular\n",
      "Learning >>> PROPN >>> NNP >>> noun, proper singular\n",
      "Algorithms >>> PROPN >>> NNP >>> noun, proper singular\n",
      ", >>> PUNCT >>> , >>> punctuation mark, comma\n",
      "Natural >>> PROPN >>> NNP >>> noun, proper singular\n",
      "Language >>> PROPN >>> NNP >>> noun, proper singular\n",
      "Processing >>> PROPN >>> NNP >>> noun, proper singular\n",
      ", >>> PUNCT >>> , >>> punctuation mark, comma\n",
      "Deep >>> PROPN >>> NNP >>> noun, proper singular\n",
      "Learning >>> PROPN >>> NNP >>> noun, proper singular\n",
      ", >>> PUNCT >>> , >>> punctuation mark, comma\n",
      "and >>> CCONJ >>> CC >>> conjunction, coordinating\n",
      "Big >>> PROPN >>> NNP >>> noun, proper singular\n",
      "Data >>> PROPN >>> NNP >>> noun, proper singular\n",
      ". >>> PUNCT >>> . >>> punctuation mark, sentence closer\n",
      "I >>> PRON >>> PRP >>> pronoun, personal\n",
      "am >>> AUX >>> VBP >>> verb, non-3rd person singular present\n",
      "also >>> ADV >>> RB >>> adverb\n",
      "proficient >>> ADJ >>> JJ >>> adjective (English), other noun-modifier (Chinese)\n",
      "in >>> ADP >>> IN >>> conjunction, subordinating or preposition\n",
      "Amazon >>> PROPN >>> NNP >>> noun, proper singular\n",
      "AWS >>> PROPN >>> NNP >>> noun, proper singular\n",
      "and >>> CCONJ >>> CC >>> conjunction, coordinating\n",
      "data >>> NOUN >>> NNS >>> noun, plural\n",
      "Visualisation >>> PROPN >>> NNP >>> noun, proper singular\n",
      "Techniques >>> PROPN >>> NNPS >>> noun, proper plural\n",
      "like >>> ADP >>> IN >>> conjunction, subordinating or preposition\n",
      "Power >>> PROPN >>> NNP >>> noun, proper singular\n",
      "BI >>> PROPN >>> NNP >>> noun, proper singular\n",
      "and >>> CCONJ >>> CC >>> conjunction, coordinating\n",
      "Tableau >>> PROPN >>> NNP >>> noun, proper singular\n",
      ". >>> PUNCT >>> . >>> punctuation mark, sentence closer\n",
      "I >>> PRON >>> PRP >>> pronoun, personal\n",
      "am >>> AUX >>> VBP >>> verb, non-3rd person singular present\n",
      "an >>> DET >>> DT >>> determiner\n",
      "asset >>> NOUN >>> NN >>> noun, singular or mass\n",
      "to >>> ADP >>> IN >>> conjunction, subordinating or preposition\n",
      "my >>> PRON >>> PRP$ >>> pronoun, possessive\n",
      "organisation >>> NOUN >>> NN >>> noun, singular or mass\n",
      ". >>> PUNCT >>> . >>> punctuation mark, sentence closer\n",
      "I >>> PRON >>> PRP >>> pronoun, personal\n",
      "am >>> AUX >>> VBP >>> verb, non-3rd person singular present\n",
      "also >>> ADV >>> RB >>> adverb\n",
      "an >>> DET >>> DT >>> determiner\n",
      "expert >>> NOUN >>> NN >>> noun, singular or mass\n",
      "in >>> ADP >>> IN >>> conjunction, subordinating or preposition\n",
      "modelling >>> VERB >>> VBG >>> verb, gerund or present participle\n",
      "complex >>> ADJ >>> JJ >>> adjective (English), other noun-modifier (Chinese)\n",
      "optimization >>> NOUN >>> NN >>> noun, singular or mass\n",
      "problems >>> NOUN >>> NNS >>> noun, plural\n",
      "and >>> CCONJ >>> CC >>> conjunction, coordinating\n",
      "have >>> VERB >>> VBP >>> verb, non-3rd person singular present\n",
      "a >>> DET >>> DT >>> determiner\n",
      "strong >>> ADJ >>> JJ >>> adjective (English), other noun-modifier (Chinese)\n",
      "hold >>> NOUN >>> NN >>> noun, singular or mass\n",
      "in >>> ADP >>> IN >>> conjunction, subordinating or preposition\n",
      "the >>> DET >>> DT >>> determiner\n",
      "Operations >>> PROPN >>> NNP >>> noun, proper singular\n",
      "Reserach >>> PROPN >>> NNP >>> noun, proper singular\n",
      "Domain >>> PROPN >>> NNP >>> noun, proper singular\n",
      ". >>> PUNCT >>> . >>> punctuation mark, sentence closer\n",
      "\" >>> PUNCT >>> '' >>> closing quotation mark\n",
      "\n",
      " >>> SPACE >>> _SP >>> whitespace\n"
     ]
    }
   ],
   "source": [
    "for token in doc:\n",
    "    print(token.text, \">>>\" ,token.pos_,\">>>\" , token.tag_,\">>>\" ,spacy.explain(token.tag_))"
   ]
  },
  {
   "cell_type": "code",
   "execution_count": 19,
   "id": "f3e67295-724f-40d5-b9a7-c7f12939d0ac",
   "metadata": {},
   "outputs": [
    {
     "data": {
      "text/plain": [
       "{97: 15,\n",
       " 91: 1,\n",
       " 95: 8,\n",
       " 92: 10,\n",
       " 87: 7,\n",
       " 96: 28,\n",
       " 90: 6,\n",
       " 100: 3,\n",
       " 85: 8,\n",
       " 84: 7,\n",
       " 89: 5,\n",
       " 86: 3,\n",
       " 103: 1}"
      ]
     },
     "execution_count": 19,
     "metadata": {},
     "output_type": "execute_result"
    }
   ],
   "source": [
    "doc.count_by(spacy.attrs.POS)"
   ]
  },
  {
   "cell_type": "code",
   "execution_count": 21,
   "id": "9d95769a-823b-4bc2-b077-6bf3ecf8a3d3",
   "metadata": {},
   "outputs": [
    {
     "data": {
      "text/plain": [
       "'PUNCT'"
      ]
     },
     "execution_count": 21,
     "metadata": {},
     "output_type": "execute_result"
    }
   ],
   "source": [
    "nlp.vocab[97].text"
   ]
  },
  {
   "cell_type": "code",
   "execution_count": 25,
   "id": "0456324f-c1d9-4de6-a6cf-febe55b6081b",
   "metadata": {},
   "outputs": [
    {
     "name": "stdout",
     "output_type": "stream",
     "text": [
      "97 PUNCT  count  15\n",
      "91 INTJ  count  1\n",
      "95 PRON  count  8\n",
      "92 NOUN  count  10\n",
      "87 AUX  count  7\n",
      "96 PROPN  count  28\n",
      "90 DET  count  6\n",
      "100 VERB  count  3\n",
      "85 ADP  count  8\n",
      "84 ADJ  count  7\n",
      "89 CCONJ  count  5\n",
      "86 ADV  count  3\n",
      "103 SPACE  count  1\n"
     ]
    }
   ],
   "source": [
    "for i,j in doc.count_by(spacy.attrs.POS).items():\n",
    "    print(i, nlp.vocab[i].text, \" count \" , j)"
   ]
  },
  {
   "cell_type": "code",
   "execution_count": 29,
   "id": "a2f620ff-9e98-4192-8bd7-0ed8b2cf0245",
   "metadata": {},
   "outputs": [
    {
     "data": {
      "text/plain": [
       "326"
      ]
     },
     "execution_count": 29,
     "metadata": {},
     "output_type": "execute_result"
    }
   ],
   "source": [
    "len(nlp.Defaults.stop_words)"
   ]
  },
  {
   "cell_type": "code",
   "execution_count": 31,
   "id": "7acf4580-0c54-4b53-ac8b-e8511dd6ce89",
   "metadata": {},
   "outputs": [
    {
     "data": {
      "text/plain": [
       "False"
      ]
     },
     "execution_count": 31,
     "metadata": {},
     "output_type": "execute_result"
    }
   ],
   "source": [
    "nlp.vocab['Hey'].is_stop\n"
   ]
  },
  {
   "cell_type": "code",
   "execution_count": 33,
   "id": "511bc7f0-e260-4a2d-bf20-3b6eab6b4f45",
   "metadata": {},
   "outputs": [
    {
     "name": "stdout",
     "output_type": "stream",
     "text": [
      "4969857429396651903 ``  count  1\n",
      "3252815442139690129 UH  count  1\n",
      "2593208677638477497 ,  count  7\n",
      "4062917326063685704 PRP$  count  2\n",
      "15308085513773655218 NN  count  8\n",
      "13927759927860985106 VBZ  count  1\n",
      "15794550382381185553 NNP  count  27\n",
      "13656873538139661788 PRP  count  6\n",
      "9188597074677201817 VBP  count  7\n",
      "15267657372422890137 DT  count  6\n",
      "1534113631682161808 VBG  count  2\n",
      "1292078113972184607 IN  count  8\n",
      "12646065887601541794 .  count  6\n",
      "10554686591937588953 JJ  count  7\n",
      "17571114184892886314 CC  count  5\n",
      "164681854541413346 RB  count  3\n",
      "783433942507015291 NNS  count  2\n",
      "11233576250605462493 NNPS  count  1\n",
      "14143520107006108953 ''  count  1\n",
      "6893682062797376370 _SP  count  1\n"
     ]
    }
   ],
   "source": [
    "for i,j in doc.count_by(spacy.attrs.TAG).items():\n",
    "    print(i, nlp.vocab[i].text, \" count \" , j)"
   ]
  },
  {
   "cell_type": "code",
   "execution_count": null,
   "id": "11d53c3a-0b4c-4b8f-8fb7-c62dc7bf49be",
   "metadata": {},
   "outputs": [],
   "source": []
  }
 ],
 "metadata": {
  "kernelspec": {
   "display_name": "Python 3",
   "language": "python",
   "name": "python3"
  },
  "language_info": {
   "codemirror_mode": {
    "name": "ipython",
    "version": 3
   },
   "file_extension": ".py",
   "mimetype": "text/x-python",
   "name": "python",
   "nbconvert_exporter": "python",
   "pygments_lexer": "ipython3",
   "version": "3.8.5"
  }
 },
 "nbformat": 4,
 "nbformat_minor": 5
}
