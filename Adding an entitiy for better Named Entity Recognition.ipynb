{
 "cells": [
  {
   "cell_type": "code",
   "execution_count": 81,
   "id": "40ddde49-7295-47dc-af8d-40d3b1f988df",
   "metadata": {},
   "outputs": [
    {
     "name": "stdout",
     "output_type": "stream",
     "text": [
      "Overwriting 1_1.txt\n"
     ]
    }
   ],
   "source": [
    "%%writefile 1_1.txt\n",
    "\"Hey, my name is Shubham, I am a Data Scientist working for Pfizer. I am proficient in Advanced Python, Advanced R, Advanced EXCEL and Advanced SQL. I am also an expert in Machine Learning Algorithms, Natural Language Processing, Deep Learning, and Big Data. I am also proficient in Amazon AWS and data Visualisation Techniques like Power BI and Tableau. I am an asset to my organisation. I am also an expert in modelling complex optimization problems with Gurobi Optimizers and have a strong hold in the Operations Reserach Domain.\""
   ]
  },
  {
   "cell_type": "code",
   "execution_count": 82,
   "id": "93d68a1f-7a5c-430b-8479-197839272491",
   "metadata": {},
   "outputs": [],
   "source": [
    "import spacy "
   ]
  },
  {
   "cell_type": "code",
   "execution_count": 83,
   "id": "bfcbd870-8c97-423d-a844-b40c5450a107",
   "metadata": {},
   "outputs": [],
   "source": [
    "nlp= spacy.load('en_core_web_sm')"
   ]
  },
  {
   "cell_type": "code",
   "execution_count": 84,
   "id": "72e31d28-1b31-4c6a-ae54-f35155e4cdb0",
   "metadata": {},
   "outputs": [],
   "source": [
    "doc= nlp(open(r'1_1.txt', 'r+').read())"
   ]
  },
  {
   "cell_type": "code",
   "execution_count": 85,
   "id": "55498f5c-b0f9-49f9-ba12-0f3b2caf5e1c",
   "metadata": {},
   "outputs": [
    {
     "name": "stdout",
     "output_type": "stream",
     "text": [
      "Shubham PERSON People, including fictional 6\n",
      "Pfizer PERSON People, including fictional 15\n",
      "Advanced Python PERSON People, including fictional 21\n",
      "Advanced SQL PERSON People, including fictional 30\n",
      "Machine Learning Algorithms GPE Countries, cities, states 39\n",
      "Deep Learning PERSON People, including fictional 47\n",
      "Big Data ORG Companies, agencies, institutions, etc. 51\n",
      "Amazon AWS ORG Companies, agencies, institutions, etc. 59\n",
      "Visualisation Techniques WORK_OF_ART Titles of books, songs, etc. 63\n",
      "Power BI ORG Companies, agencies, institutions, etc. 66\n",
      "Tableau GPE Countries, cities, states 69\n",
      "Gurobi Optimizers ORG Companies, agencies, institutions, etc. 90\n",
      "the Operations Reserach Domain FAC Buildings, airports, highways, bridges, etc. 98\n"
     ]
    }
   ],
   "source": [
    "for ent in doc.ents:\n",
    "    print(ent, ent.label_, spacy.explain(ent.label_), ent.start)"
   ]
  },
  {
   "cell_type": "code",
   "execution_count": 86,
   "id": "78c915ff-9ef0-4246-88bc-7bedc12b1659",
   "metadata": {},
   "outputs": [],
   "source": [
    "from spacy.tokens import Span"
   ]
  },
  {
   "cell_type": "code",
   "execution_count": 104,
   "id": "4f1a98f2-7655-4e0a-9bb8-2017424d01f9",
   "metadata": {},
   "outputs": [],
   "source": [
    "ORG= doc.vocab.strings[u'WORK_OF_ART']"
   ]
  },
  {
   "cell_type": "code",
   "execution_count": 105,
   "id": "da01b455-e085-45ad-96a6-750b1d5adef6",
   "metadata": {},
   "outputs": [],
   "source": [
    "doc.ents= list(doc.ents\n",
    "               )"
   ]
  },
  {
   "cell_type": "code",
   "execution_count": 106,
   "id": "51538fb6-8c34-453e-b4bc-6597a8a5db91",
   "metadata": {},
   "outputs": [
    {
     "data": {
      "text/plain": [
       "tuple"
      ]
     },
     "execution_count": 106,
     "metadata": {},
     "output_type": "execute_result"
    }
   ],
   "source": [
    "type(doc.ents)"
   ]
  },
  {
   "cell_type": "code",
   "execution_count": 107,
   "id": "770fb743-a445-4297-a003-e6ecaeef1d95",
   "metadata": {},
   "outputs": [
    {
     "data": {
      "text/plain": [
       "Data"
      ]
     },
     "execution_count": 107,
     "metadata": {},
     "output_type": "execute_result"
    }
   ],
   "source": [
    "doc[11]"
   ]
  },
  {
   "cell_type": "code",
   "execution_count": 108,
   "id": "ff2dab7f-9bfd-42a4-a05a-08f1d6f99035",
   "metadata": {},
   "outputs": [
    {
     "data": {
      "text/plain": [
       "(Shubham,\n",
       " Pfizer,\n",
       " Advanced Python,\n",
       " Advanced SQL,\n",
       " Machine Learning Algorithms,\n",
       " Deep Learning,\n",
       " Big Data,\n",
       " Amazon AWS,\n",
       " Visualisation Techniques,\n",
       " Power BI,\n",
       " Tableau,\n",
       " Gurobi Optimizers,\n",
       " the Operations Reserach Domain)"
      ]
     },
     "execution_count": 108,
     "metadata": {},
     "output_type": "execute_result"
    }
   ],
   "source": [
    "doc.ents"
   ]
  },
  {
   "cell_type": "code",
   "execution_count": 109,
   "id": "78f7c2e3-bd6a-4702-9af5-2de7041a4382",
   "metadata": {},
   "outputs": [],
   "source": [
    "new_ent=Span(doc, 11,13,label=ORG)"
   ]
  },
  {
   "cell_type": "code",
   "execution_count": null,
   "id": "6d9e8b25-6b19-4f7a-94db-0a2ede45521f",
   "metadata": {},
   "outputs": [],
   "source": []
  },
  {
   "cell_type": "code",
   "execution_count": 110,
   "id": "eb4aa294-1e18-4b6f-86d1-aea9f8bbaabf",
   "metadata": {},
   "outputs": [
    {
     "data": {
      "text/plain": [
       "388"
      ]
     },
     "execution_count": 110,
     "metadata": {},
     "output_type": "execute_result"
    }
   ],
   "source": [
    "ORG"
   ]
  },
  {
   "cell_type": "code",
   "execution_count": 111,
   "id": "a78b7c31-7b9b-459d-935d-8278ea641665",
   "metadata": {},
   "outputs": [],
   "source": [
    "ents_=list(doc.ents) + [new_ent]"
   ]
  },
  {
   "cell_type": "code",
   "execution_count": 112,
   "id": "20cd8064-b016-4a22-9bd0-c7681cc5c5f4",
   "metadata": {},
   "outputs": [],
   "source": [
    "doc.ents= ents_"
   ]
  },
  {
   "cell_type": "code",
   "execution_count": 113,
   "id": "dd40116d-7835-4cf5-b451-de0cdc5f1421",
   "metadata": {},
   "outputs": [
    {
     "data": {
      "text/plain": [
       "(Shubham,\n",
       " Data Scientist,\n",
       " Pfizer,\n",
       " Advanced Python,\n",
       " Advanced SQL,\n",
       " Machine Learning Algorithms,\n",
       " Deep Learning,\n",
       " Big Data,\n",
       " Amazon AWS,\n",
       " Visualisation Techniques,\n",
       " Power BI,\n",
       " Tableau,\n",
       " Gurobi Optimizers,\n",
       " the Operations Reserach Domain)"
      ]
     },
     "execution_count": 113,
     "metadata": {},
     "output_type": "execute_result"
    }
   ],
   "source": [
    "doc.ents"
   ]
  },
  {
   "cell_type": "code",
   "execution_count": 115,
   "id": "4ec47765-a1d6-4819-a86c-a2730bc23f68",
   "metadata": {},
   "outputs": [
    {
     "name": "stdout",
     "output_type": "stream",
     "text": [
      "Shubham People, including fictional\n",
      "Data Scientist Titles of books, songs, etc.\n",
      "Pfizer People, including fictional\n",
      "Advanced Python People, including fictional\n",
      "Advanced SQL People, including fictional\n",
      "Machine Learning Algorithms Countries, cities, states\n",
      "Deep Learning People, including fictional\n",
      "Big Data Companies, agencies, institutions, etc.\n",
      "Amazon AWS Companies, agencies, institutions, etc.\n",
      "Visualisation Techniques Titles of books, songs, etc.\n",
      "Power BI Companies, agencies, institutions, etc.\n",
      "Tableau Countries, cities, states\n",
      "Gurobi Optimizers Companies, agencies, institutions, etc.\n",
      "the Operations Reserach Domain Buildings, airports, highways, bridges, etc.\n"
     ]
    }
   ],
   "source": [
    "for ent in doc.ents:\n",
    "    print(ent,spacy.explain(ent.label_))"
   ]
  },
  {
   "cell_type": "code",
   "execution_count": 118,
   "id": "3885802e-be6c-4766-8d1f-85ecba5f07b5",
   "metadata": {},
   "outputs": [
    {
     "data": {
      "text/plain": [
       "74"
      ]
     },
     "execution_count": 118,
     "metadata": {},
     "output_type": "execute_result"
    }
   ],
   "source": [
    "spacy.attrs.POS"
   ]
  },
  {
   "cell_type": "code",
   "execution_count": null,
   "id": "5fc646f2-004f-4126-98e0-81d4f05a7001",
   "metadata": {},
   "outputs": [],
   "source": []
  }
 ],
 "metadata": {
  "kernelspec": {
   "display_name": "Python 3",
   "language": "python",
   "name": "python3"
  },
  "language_info": {
   "codemirror_mode": {
    "name": "ipython",
    "version": 3
   },
   "file_extension": ".py",
   "mimetype": "text/x-python",
   "name": "python",
   "nbconvert_exporter": "python",
   "pygments_lexer": "ipython3",
   "version": "3.8.5"
  }
 },
 "nbformat": 4,
 "nbformat_minor": 5
}
