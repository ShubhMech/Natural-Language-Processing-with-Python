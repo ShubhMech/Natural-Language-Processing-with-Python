{
 "cells": [
  {
   "cell_type": "code",
   "execution_count": null,
   "id": "ac4d9d31-71c1-4b0f-86fc-9ab851fa1647",
   "metadata": {},
   "outputs": [],
   "source": []
  },
  {
   "cell_type": "code",
   "execution_count": 1,
   "id": "fd699280-cd7c-483f-93cd-2667fa38cc75",
   "metadata": {},
   "outputs": [],
   "source": [
    "import spacy "
   ]
  },
  {
   "cell_type": "code",
   "execution_count": 2,
   "id": "e920fde0-8d68-421c-9e31-5216f880c872",
   "metadata": {},
   "outputs": [],
   "source": [
    "nlp= spacy.load('en_core_web_sm')"
   ]
  },
  {
   "cell_type": "code",
   "execution_count": 15,
   "id": "874fa3e4-cac7-4de4-9642-358e6bbf0b50",
   "metadata": {},
   "outputs": [
    {
     "name": "stdout",
     "output_type": "stream",
     "text": [
      "Overwriting 1_1.txt\n"
     ]
    }
   ],
   "source": [
    "%%writefile 1_1.txt\n",
    "\"Hey, my name is Shubham, I am a Data Scientist working for Pfizer. I am proficient in Advanced Python, Advanced R, Advanced EXCEL and Advanced SQL. I am also an expert in Machine Learning Algorithms, Natural Language Processing, Deep Learning, and Big Data. I am also proficient in Amazon AWS and data Visualisation Techniques like Power BI and Tableau. I am an asset to my organisation. I am also an expert in modelling complex optimization problems with Gurobi Optimizers and have a strong hold in the Operations Reserach Domain.\""
   ]
  },
  {
   "cell_type": "code",
   "execution_count": 16,
   "id": "5fb0eee5-e881-4dfc-884a-b76253da961b",
   "metadata": {},
   "outputs": [],
   "source": [
    "doc= nlp((open(r'1_1.txt', 'r+').read()))"
   ]
  },
  {
   "cell_type": "code",
   "execution_count": 17,
   "id": "c56827c1-c93c-4df1-b4da-f8eaacd402cd",
   "metadata": {},
   "outputs": [
    {
     "name": "stdout",
     "output_type": "stream",
     "text": [
      "\"Hey, my name is Shubham, I am a Data Scientist working for Pfizer.\n",
      "I am proficient in Advanced Python, Advanced R, Advanced EXCEL and Advanced SQL.\n",
      "I am also an expert in Machine Learning Algorithms, Natural Language Processing, Deep Learning, and Big Data.\n",
      "I am also proficient in Amazon AWS and data Visualisation Techniques like Power BI and Tableau.\n",
      "I am an asset to my organisation.\n",
      "I am also an expert in modelling complex optimization problems with Gurobi Optimizers and have a strong hold in the Operations Reserach Domain.\"\n",
      "\n",
      "\n"
     ]
    }
   ],
   "source": [
    "for sent in doc.sents:\n",
    "    print(sent)"
   ]
  },
  {
   "cell_type": "code",
   "execution_count": 30,
   "id": "b77f62c2-0244-48a4-8b8f-ea9e7b049bd6",
   "metadata": {},
   "outputs": [],
   "source": [
    "from spacy.language import Language\n"
   ]
  },
  {
   "cell_type": "code",
   "execution_count": null,
   "id": "4041ce1d-214c-4612-84b8-a64e5d5910fa",
   "metadata": {},
   "outputs": [],
   "source": []
  },
  {
   "cell_type": "code",
   "execution_count": 37,
   "id": "ff6ac293-08c5-45db-a048-96902b1fdcc1",
   "metadata": {},
   "outputs": [
    {
     "data": {
      "text/plain": [
       "<function __main__.my_component(doc)>"
      ]
     },
     "execution_count": 37,
     "metadata": {},
     "output_type": "execute_result"
    }
   ],
   "source": [
    "from spacy.language import Language\n",
    "\n",
    "# Usage as a decorator\n",
    "@Language.component(\"my_component\")\n",
    "def my_component(doc):\n",
    "    for token in doc[:-1]:\n",
    "        if token.text==\",\":\n",
    "            doc[token.i+1].is_sent_start =True\n",
    "    return doc\n",
    "\n",
    "# Usage as a function\n",
    "Language.component(\"my_component2\", func=my_component)"
   ]
  },
  {
   "cell_type": "code",
   "execution_count": null,
   "id": "74007b30-0e59-4484-9c63-13d4fc4d649b",
   "metadata": {},
   "outputs": [],
   "source": [
    "nlp.add_pipe(my_component, before= 'parser')"
   ]
  },
  {
   "cell_type": "code",
   "execution_count": null,
   "id": "cbd4fb06-fe70-4826-9527-885ed30c8540",
   "metadata": {},
   "outputs": [],
   "source": []
  },
  {
   "cell_type": "code",
   "execution_count": null,
   "id": "55183931-3658-4855-a7be-57f00f34678f",
   "metadata": {},
   "outputs": [],
   "source": []
  }
 ],
 "metadata": {
  "kernelspec": {
   "display_name": "Python 3",
   "language": "python",
   "name": "python3"
  },
  "language_info": {
   "codemirror_mode": {
    "name": "ipython",
    "version": 3
   },
   "file_extension": ".py",
   "mimetype": "text/x-python",
   "name": "python",
   "nbconvert_exporter": "python",
   "pygments_lexer": "ipython3",
   "version": "3.8.5"
  }
 },
 "nbformat": 4,
 "nbformat_minor": 5
}
