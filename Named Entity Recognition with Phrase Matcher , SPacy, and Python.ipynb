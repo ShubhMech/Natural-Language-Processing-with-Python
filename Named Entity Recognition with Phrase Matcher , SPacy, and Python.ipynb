{
 "cells": [
  {
   "cell_type": "code",
   "execution_count": 1,
   "id": "dee20e32-65bd-40c1-a5c1-83cd04badddc",
   "metadata": {},
   "outputs": [],
   "source": [
    "import spacy "
   ]
  },
  {
   "cell_type": "code",
   "execution_count": 11,
   "id": "49b14621-28e0-44a1-9be7-f7e5a0ba132a",
   "metadata": {},
   "outputs": [],
   "source": [
    "nlp= spacy.load('en_core_web_sm')"
   ]
  },
  {
   "cell_type": "code",
   "execution_count": 12,
   "id": "6ae443d1-e643-410f-8332-9fd95566a06a",
   "metadata": {},
   "outputs": [
    {
     "name": "stdout",
     "output_type": "stream",
     "text": [
      "Overwriting 1_1.txt\n"
     ]
    }
   ],
   "source": [
    "%%writefile 1_1.txt\n",
    "\"Hey, my name is Shubham, I am a Data Scientist working for Pfizer. I am proficient in Advanced Python, Advanced R, Advanced EXCEL and Advanced SQL. I am also an expert in Machine Learning Algorithms, Natural Language Processing, Deep Learning, and Big Data. I am also proficient in Amazon AWS and data Visualisation Techniques like Power BI and Tableau. I am an asset to my organisation. I am also an expert in modelling complex optimization problems with Gurobi Optimizers and have a strong hold in the Operations Reserach Domain.\""
   ]
  },
  {
   "cell_type": "code",
   "execution_count": 23,
   "id": "eb4a4540-9459-4b13-9953-b9a50d63fcaa",
   "metadata": {},
   "outputs": [],
   "source": [
    "doc= nlp(open(r'1_1.txt', 'r+').read())"
   ]
  },
  {
   "cell_type": "code",
   "execution_count": 24,
   "id": "387f993d-3447-480a-b6c0-155663dccf2b",
   "metadata": {},
   "outputs": [],
   "source": [
    "from spacy.matcher import PhraseMatcher as pm"
   ]
  },
  {
   "cell_type": "code",
   "execution_count": 69,
   "id": "dcf6b220-c10d-444d-9ca3-a5ffd08fd300",
   "metadata": {},
   "outputs": [],
   "source": [
    "patterns= ['expert']"
   ]
  },
  {
   "cell_type": "code",
   "execution_count": 70,
   "id": "867ce57d-aa6b-469f-8f6f-5cabc84e2f3b",
   "metadata": {},
   "outputs": [],
   "source": [
    "patterns= [nlp(pattern) for pattern in patterns]"
   ]
  },
  {
   "cell_type": "code",
   "execution_count": 71,
   "id": "76a6066b-a7c6-4854-b51a-edd27a54b35d",
   "metadata": {},
   "outputs": [],
   "source": [
    "matcher= pm(nlp.vocab)"
   ]
  },
  {
   "cell_type": "code",
   "execution_count": 72,
   "id": "f3d3fb39-720f-4dd2-960d-47444b0d4c0b",
   "metadata": {},
   "outputs": [],
   "source": [
    "match= matcher.add(\"Matcher\",None,*patterns)"
   ]
  },
  {
   "cell_type": "code",
   "execution_count": 73,
   "id": "0c519d40-714d-41f0-8d8a-644f808a3e46",
   "metadata": {},
   "outputs": [],
   "source": [
    "res=matcher(doc)"
   ]
  },
  {
   "cell_type": "code",
   "execution_count": 74,
   "id": "75608a37-00a2-4b60-a35d-b4903f8f061f",
   "metadata": {},
   "outputs": [
    {
     "data": {
      "text/plain": [
       "37"
      ]
     },
     "execution_count": 74,
     "metadata": {},
     "output_type": "execute_result"
    }
   ],
   "source": [
    "res[0][1]"
   ]
  },
  {
   "cell_type": "code",
   "execution_count": 75,
   "id": "cbea12b0-77a5-4f50-8d64-33d2232559cd",
   "metadata": {},
   "outputs": [
    {
     "data": {
      "text/plain": [
       "38"
      ]
     },
     "execution_count": 75,
     "metadata": {},
     "output_type": "execute_result"
    }
   ],
   "source": [
    "res[0][2]"
   ]
  },
  {
   "cell_type": "code",
   "execution_count": 76,
   "id": "c44c6a19-432d-41af-b21d-fcc514c9c859",
   "metadata": {},
   "outputs": [
    {
     "data": {
      "text/plain": [
       "(2563081207991146971, 37, 38)"
      ]
     },
     "execution_count": 76,
     "metadata": {},
     "output_type": "execute_result"
    }
   ],
   "source": [
    "res[0]\n"
   ]
  },
  {
   "cell_type": "code",
   "execution_count": 77,
   "id": "8ae27a12-0b1c-4e76-9f25-e265ad989fcf",
   "metadata": {},
   "outputs": [],
   "source": [
    "from spacy.tokens import Span "
   ]
  },
  {
   "cell_type": "code",
   "execution_count": 78,
   "id": "407fb5a6-7dc6-4d4b-8e8e-f9b1ed31b722",
   "metadata": {},
   "outputs": [
    {
     "data": {
      "text/plain": [
       "'Gurobi Optimizers'"
      ]
     },
     "execution_count": 78,
     "metadata": {},
     "output_type": "execute_result"
    }
   ],
   "source": [
    "nlp.vocab['Gurobi Optimizers'].text"
   ]
  },
  {
   "cell_type": "code",
   "execution_count": 79,
   "id": "861950f1-6436-49aa-8b5b-3d77d9ef1029",
   "metadata": {},
   "outputs": [],
   "source": [
    "ORG= nlp.vocab.strings[u'FAC']"
   ]
  },
  {
   "cell_type": "code",
   "execution_count": 80,
   "id": "56956239-8496-45d1-9548-970cd9226105",
   "metadata": {},
   "outputs": [
    {
     "data": {
      "text/plain": [
       "9191306739292312949"
      ]
     },
     "execution_count": 80,
     "metadata": {},
     "output_type": "execute_result"
    }
   ],
   "source": [
    "ORG"
   ]
  },
  {
   "cell_type": "code",
   "execution_count": 81,
   "id": "de0838d3-b0f5-4ef6-a17d-e6c59e4da421",
   "metadata": {},
   "outputs": [
    {
     "name": "stdout",
     "output_type": "stream",
     "text": [
      "Shubham PERSON\n",
      "Pfizer PERSON\n",
      "Advanced Python PERSON\n",
      "Advanced SQL PERSON\n",
      "Machine Learning Algorithms GPE\n",
      "Deep Learning PERSON\n",
      "Big Data ORG\n",
      "Amazon AWS ORG\n",
      "Visualisation Techniques WORK_OF_ART\n",
      "Power BI ORG\n",
      "Tableau GPE\n",
      "Gurobi Optimizers ORG\n",
      "the Operations Reserach Domain FAC\n"
     ]
    }
   ],
   "source": [
    "for i in doc.ents:\n",
    "    print(i,i.label_)"
   ]
  },
  {
   "cell_type": "code",
   "execution_count": 82,
   "id": "a9fabcb9-cf3a-4e1e-b25f-2ae5412717cb",
   "metadata": {},
   "outputs": [],
   "source": [
    "new_ent=Span(doc, res[0][1], res[0][2], ORG)"
   ]
  },
  {
   "cell_type": "code",
   "execution_count": 83,
   "id": "2485ffc3-e44e-4b5b-8f22-2315070eb6a9",
   "metadata": {},
   "outputs": [
    {
     "data": {
      "text/plain": [
       "expert"
      ]
     },
     "execution_count": 83,
     "metadata": {},
     "output_type": "execute_result"
    }
   ],
   "source": [
    "new_ent"
   ]
  },
  {
   "cell_type": "code",
   "execution_count": 84,
   "id": "4f45a9d0-96e6-462c-afe4-ef5794d7b628",
   "metadata": {},
   "outputs": [],
   "source": [
    "ents_=list(doc.ents) + [new_ent]"
   ]
  },
  {
   "cell_type": "code",
   "execution_count": 85,
   "id": "414fa59a-e824-45dd-b161-eae2d2b4f5c5",
   "metadata": {},
   "outputs": [],
   "source": [
    "doc.ents=ents_"
   ]
  },
  {
   "cell_type": "code",
   "execution_count": 86,
   "id": "74335d2c-0d06-45fd-bdc8-904e3e0d0af0",
   "metadata": {},
   "outputs": [
    {
     "data": {
      "text/plain": [
       "(Shubham,\n",
       " Pfizer,\n",
       " Advanced Python,\n",
       " Advanced SQL,\n",
       " expert,\n",
       " Machine Learning Algorithms,\n",
       " Deep Learning,\n",
       " Big Data,\n",
       " Amazon AWS,\n",
       " Visualisation Techniques,\n",
       " Power BI,\n",
       " Tableau,\n",
       " Gurobi Optimizers,\n",
       " the Operations Reserach Domain)"
      ]
     },
     "execution_count": 86,
     "metadata": {},
     "output_type": "execute_result"
    }
   ],
   "source": [
    "doc.ents"
   ]
  },
  {
   "cell_type": "code",
   "execution_count": null,
   "id": "49c7589e-7b25-4a21-816f-429790ac5943",
   "metadata": {},
   "outputs": [],
   "source": []
  }
 ],
 "metadata": {
  "kernelspec": {
   "display_name": "Python 3",
   "language": "python",
   "name": "python3"
  },
  "language_info": {
   "codemirror_mode": {
    "name": "ipython",
    "version": 3
   },
   "file_extension": ".py",
   "mimetype": "text/x-python",
   "name": "python",
   "nbconvert_exporter": "python",
   "pygments_lexer": "ipython3",
   "version": "3.8.5"
  }
 },
 "nbformat": 4,
 "nbformat_minor": 5
}
