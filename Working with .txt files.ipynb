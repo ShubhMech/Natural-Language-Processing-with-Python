{
 "cells": [
  {
   "cell_type": "code",
   "execution_count": 1,
   "id": "33e01133-b67c-4ae4-aea1-4b9c2fa21461",
   "metadata": {},
   "outputs": [],
   "source": [
    "path= r\"C:\\Users\\Asus\\Desktop\\sample3.txt\""
   ]
  },
  {
   "cell_type": "code",
   "execution_count": 2,
   "id": "597bbbcb-5086-45e9-92e6-4fe1d842623b",
   "metadata": {},
   "outputs": [
    {
     "name": "stdout",
     "output_type": "stream",
     "text": [
      "Quod equidem non reprehendo;\n",
      "Lorem ipsum dolor sit amet, consectetur adipiscing elit. Quibus natura iure responderit non esse verum aliunde finem beate vivendi, a se principia rei gerendae peti; Quae enim adhuc protulisti, popularia sunt, ego autem a te elegantiora desidero. Duo Reges: constructio interrete. Tum Lucius: Mihi vero ista valde probata sunt, quod item fratri puto. Bestiarum vero nullum iudicium puto. Nihil enim iam habes, quod ad corpus referas; Deinde prima illa, quae in congressu solemus: Quid tu, inquit, huc? Et homini, qui ceteris animantibus plurimum praestat, praecipue a natura nihil datum esse dicemus?\n",
      "\n",
      "Iam id ipsum absurdum, maximum malum neglegi. Quod ea non occurrentia fingunt, vincunt Aristonem; Atqui perspicuum est hominem e corpore animoque constare, cum primae sint animi partes, secundae corporis. Fieri, inquam, Triari, nullo pacto potest, ut non dicas, quid non probes eius, a quo dissentias. Equidem e Cn. An dubium est, quin virtus ita maximam partem optineat in rebus humanis, ut reliquas obruat?\n",
      "\n",
      "Quis istum dolorem timet?\n",
      "Summus dolor plures dies manere non potest? Dicet pro me ipsa virtus nec dubitabit isti vestro beato M. Tubulum fuisse, qua illum, cuius is condemnatus est rogatione, P. Quod si ita sit, cur opera philosophiae sit danda nescio.\n",
      "\n",
      "Ex eorum enim scriptis et institutis cum omnis doctrina liberalis, omnis historia.\n",
      "Quod si ita est, sequitur id ipsum, quod te velle video, omnes semper beatos esse sapientes. Cum enim fertur quasi torrens oratio, quamvis multa cuiusque modi rapiat, nihil tamen teneas, nihil apprehendas, nusquam orationem rapidam coerceas. Ita redarguitur ipse a sese, convincunturque scripta eius probitate ipsius ac moribus. At quanta conantur! Mundum hunc omnem oppidum esse nostrum! Incendi igitur eos, qui audiunt, vides. Vide, ne magis, inquam, tuum fuerit, cum re idem tibi, quod mihi, videretur, non nova te rebus nomina inponere. Qui-vere falsone, quaerere mittimus-dicitur oculis se privasse; Si ista mala sunt, in quae potest incidere sapiens, sapientem esse non esse ad beate vivendum satis. At vero si ad vitem sensus accesserit, ut appetitum quendam habeat et per se ipsa moveatur, quid facturam putas?\n",
      "\n",
      "Quem si tenueris, non modo meum Ciceronem, sed etiam me ipsum abducas licebit.\n",
      "Stulti autem malorum memoria torquentur, sapientes bona praeterita grata recordatione renovata delectant.\n",
      "Esse enim quam vellet iniquus iustus poterat inpune.\n",
      "Quae autem natura suae primae institutionis oblita est?\n",
      "Verum tamen cum de rebus grandioribus dicas, ipsae res verba rapiunt;\n",
      "Hoc est non modo cor non habere, sed ne palatum quidem.\n",
      "Voluptatem cum summum bonum diceret, primum in eo ipso parum vidit, deinde hoc quoque alienum; Sed tu istuc dixti bene Latine, parum plane. Nam haec ipsa mihi erunt in promptu, quae modo audivi, nec ante aggrediar, quam te ab istis, quos dicis, instructum videro. Fatebuntur Stoici haec omnia dicta esse praeclare, neque eam causam Zenoni desciscendi fuisse. Non autem hoc: igitur ne illud quidem. Ratio quidem vestra sic cogit. Cum audissem Antiochum, Brute, ut solebam, cum M. An quod ita callida est, ut optime possit architectari voluptates?\n",
      "\n",
      "Idemne, quod iucunde?\n",
      "Haec mihi videtur delicatior, ut ita dicam, molliorque ratio, quam virtutis vis gravitasque postulat. Sed quoniam et advesperascit et mihi ad villam revertendum est, nunc quidem hactenus; Cuius ad naturam apta ratio vera illa et summa lex a philosophis dicitur. Neque solum ea communia, verum etiam paria esse dixerunt. Sed nunc, quod agimus; A mene tu?\n"
     ]
    }
   ],
   "source": [
    "with open(path,'r+') as file:\n",
    "    print(file.read())"
   ]
  },
  {
   "cell_type": "code",
   "execution_count": 3,
   "id": "10d26ab4-4c9c-4fc4-94dd-f7d7634488dd",
   "metadata": {},
   "outputs": [
    {
     "name": "stdout",
     "output_type": "stream",
     "text": [
      "['Quod equidem non reprehendo;\\n', 'Lorem ipsum dolor sit amet, consectetur adipiscing elit. Quibus natura iure responderit non esse verum aliunde finem beate vivendi, a se principia rei gerendae peti; Quae enim adhuc protulisti, popularia sunt, ego autem a te elegantiora desidero. Duo Reges: constructio interrete. Tum Lucius: Mihi vero ista valde probata sunt, quod item fratri puto. Bestiarum vero nullum iudicium puto. Nihil enim iam habes, quod ad corpus referas; Deinde prima illa, quae in congressu solemus: Quid tu, inquit, huc? Et homini, qui ceteris animantibus plurimum praestat, praecipue a natura nihil datum esse dicemus?\\n', '\\n', 'Iam id ipsum absurdum, maximum malum neglegi. Quod ea non occurrentia fingunt, vincunt Aristonem; Atqui perspicuum est hominem e corpore animoque constare, cum primae sint animi partes, secundae corporis. Fieri, inquam, Triari, nullo pacto potest, ut non dicas, quid non probes eius, a quo dissentias. Equidem e Cn. An dubium est, quin virtus ita maximam partem optineat in rebus humanis, ut reliquas obruat?\\n', '\\n', 'Quis istum dolorem timet?\\n', 'Summus dolor plures dies manere non potest? Dicet pro me ipsa virtus nec dubitabit isti vestro beato M. Tubulum fuisse, qua illum, cuius is condemnatus est rogatione, P. Quod si ita sit, cur opera philosophiae sit danda nescio.\\n', '\\n', 'Ex eorum enim scriptis et institutis cum omnis doctrina liberalis, omnis historia.\\n', 'Quod si ita est, sequitur id ipsum, quod te velle video, omnes semper beatos esse sapientes. Cum enim fertur quasi torrens oratio, quamvis multa cuiusque modi rapiat, nihil tamen teneas, nihil apprehendas, nusquam orationem rapidam coerceas. Ita redarguitur ipse a sese, convincunturque scripta eius probitate ipsius ac moribus. At quanta conantur! Mundum hunc omnem oppidum esse nostrum! Incendi igitur eos, qui audiunt, vides. Vide, ne magis, inquam, tuum fuerit, cum re idem tibi, quod mihi, videretur, non nova te rebus nomina inponere. Qui-vere falsone, quaerere mittimus-dicitur oculis se privasse; Si ista mala sunt, in quae potest incidere sapiens, sapientem esse non esse ad beate vivendum satis. At vero si ad vitem sensus accesserit, ut appetitum quendam habeat et per se ipsa moveatur, quid facturam putas?\\n', '\\n', 'Quem si tenueris, non modo meum Ciceronem, sed etiam me ipsum abducas licebit.\\n', 'Stulti autem malorum memoria torquentur, sapientes bona praeterita grata recordatione renovata delectant.\\n', 'Esse enim quam vellet iniquus iustus poterat inpune.\\n', 'Quae autem natura suae primae institutionis oblita est?\\n', 'Verum tamen cum de rebus grandioribus dicas, ipsae res verba rapiunt;\\n', 'Hoc est non modo cor non habere, sed ne palatum quidem.\\n', 'Voluptatem cum summum bonum diceret, primum in eo ipso parum vidit, deinde hoc quoque alienum; Sed tu istuc dixti bene Latine, parum plane. Nam haec ipsa mihi erunt in promptu, quae modo audivi, nec ante aggrediar, quam te ab istis, quos dicis, instructum videro. Fatebuntur Stoici haec omnia dicta esse praeclare, neque eam causam Zenoni desciscendi fuisse. Non autem hoc: igitur ne illud quidem. Ratio quidem vestra sic cogit. Cum audissem Antiochum, Brute, ut solebam, cum M. An quod ita callida est, ut optime possit architectari voluptates?\\n', '\\n', 'Idemne, quod iucunde?\\n', 'Haec mihi videtur delicatior, ut ita dicam, molliorque ratio, quam virtutis vis gravitasque postulat. Sed quoniam et advesperascit et mihi ad villam revertendum est, nunc quidem hactenus; Cuius ad naturam apta ratio vera illa et summa lex a philosophis dicitur. Neque solum ea communia, verum etiam paria esse dixerunt. Sed nunc, quod agimus; A mene tu?']\n"
     ]
    }
   ],
   "source": [
    "with open(path,'r+') as file:\n",
    "    print(file.readlines())"
   ]
  },
  {
   "cell_type": "code",
   "execution_count": 4,
   "id": "534b294d-4fa9-4307-ae10-f7356a08f321",
   "metadata": {},
   "outputs": [
    {
     "name": "stdout",
     "output_type": "stream",
     "text": [
      "Quod equidem non reprehendo;\n",
      "\n",
      "Lorem ipsum dolor sit amet, consectetur adipiscing elit. Quibus natura iure responderit non esse verum aliunde finem beate vivendi, a se principia rei gerendae peti; Quae enim adhuc protulisti, popularia sunt, ego autem a te elegantiora desidero. Duo Reges: constructio interrete. Tum Lucius: Mihi vero ista valde probata sunt, quod item fratri puto. Bestiarum vero nullum iudicium puto. Nihil enim iam habes, quod ad corpus referas; Deinde prima illa, quae in congressu solemus: Quid tu, inquit, huc? Et homini, qui ceteris animantibus plurimum praestat, praecipue a natura nihil datum esse dicemus?\n",
      "\n",
      "\n",
      "\n",
      "Iam id ipsum absurdum, maximum malum neglegi. Quod ea non occurrentia fingunt, vincunt Aristonem; Atqui perspicuum est hominem e corpore animoque constare, cum primae sint animi partes, secundae corporis. Fieri, inquam, Triari, nullo pacto potest, ut non dicas, quid non probes eius, a quo dissentias. Equidem e Cn. An dubium est, quin virtus ita maximam partem optineat in rebus humanis, ut reliquas obruat?\n",
      "\n",
      "\n",
      "\n",
      "Quis istum dolorem timet?\n",
      "\n",
      "Summus dolor plures dies manere non potest? Dicet pro me ipsa virtus nec dubitabit isti vestro beato M. Tubulum fuisse, qua illum, cuius is condemnatus est rogatione, P. Quod si ita sit, cur opera philosophiae sit danda nescio.\n",
      "\n",
      "\n",
      "\n",
      "Ex eorum enim scriptis et institutis cum omnis doctrina liberalis, omnis historia.\n",
      "\n",
      "Quod si ita est, sequitur id ipsum, quod te velle video, omnes semper beatos esse sapientes. Cum enim fertur quasi torrens oratio, quamvis multa cuiusque modi rapiat, nihil tamen teneas, nihil apprehendas, nusquam orationem rapidam coerceas. Ita redarguitur ipse a sese, convincunturque scripta eius probitate ipsius ac moribus. At quanta conantur! Mundum hunc omnem oppidum esse nostrum! Incendi igitur eos, qui audiunt, vides. Vide, ne magis, inquam, tuum fuerit, cum re idem tibi, quod mihi, videretur, non nova te rebus nomina inponere. Qui-vere falsone, quaerere mittimus-dicitur oculis se privasse; Si ista mala sunt, in quae potest incidere sapiens, sapientem esse non esse ad beate vivendum satis. At vero si ad vitem sensus accesserit, ut appetitum quendam habeat et per se ipsa moveatur, quid facturam putas?\n",
      "\n",
      "\n",
      "\n",
      "Quem si tenueris, non modo meum Ciceronem, sed etiam me ipsum abducas licebit.\n",
      "\n",
      "Stulti autem malorum memoria torquentur, sapientes bona praeterita grata recordatione renovata delectant.\n",
      "\n",
      "Esse enim quam vellet iniquus iustus poterat inpune.\n",
      "\n",
      "Quae autem natura suae primae institutionis oblita est?\n",
      "\n",
      "Verum tamen cum de rebus grandioribus dicas, ipsae res verba rapiunt;\n",
      "\n",
      "Hoc est non modo cor non habere, sed ne palatum quidem.\n",
      "\n",
      "Voluptatem cum summum bonum diceret, primum in eo ipso parum vidit, deinde hoc quoque alienum; Sed tu istuc dixti bene Latine, parum plane. Nam haec ipsa mihi erunt in promptu, quae modo audivi, nec ante aggrediar, quam te ab istis, quos dicis, instructum videro. Fatebuntur Stoici haec omnia dicta esse praeclare, neque eam causam Zenoni desciscendi fuisse. Non autem hoc: igitur ne illud quidem. Ratio quidem vestra sic cogit. Cum audissem Antiochum, Brute, ut solebam, cum M. An quod ita callida est, ut optime possit architectari voluptates?\n",
      "\n",
      "\n",
      "\n",
      "Idemne, quod iucunde?\n",
      "\n",
      "Haec mihi videtur delicatior, ut ita dicam, molliorque ratio, quam virtutis vis gravitasque postulat. Sed quoniam et advesperascit et mihi ad villam revertendum est, nunc quidem hactenus; Cuius ad naturam apta ratio vera illa et summa lex a philosophis dicitur. Neque solum ea communia, verum etiam paria esse dixerunt. Sed nunc, quod agimus; A mene tu?\n"
     ]
    }
   ],
   "source": [
    "with open(path,'r+') as file:\n",
    "    for lines in (file.readlines()):\n",
    "        print(lines)"
   ]
  },
  {
   "cell_type": "code",
   "execution_count": 10,
   "id": "ea96e5a5-9a83-434f-835f-408686e5a753",
   "metadata": {},
   "outputs": [
    {
     "name": "stdout",
     "output_type": "stream",
     "text": [
      "['Quod', 'equidem', 'non', 'reprehendo;']\n",
      "['Lorem', 'ipsum', 'dolor', 'sit', 'amet,', 'consectetur', 'adipiscing', 'elit.', 'Quibus', 'natura', 'iure', 'responderit', 'non', 'esse', 'verum', 'aliunde', 'finem', 'beate', 'vivendi,', 'a', 'se', 'principia', 'rei', 'gerendae', 'peti;', 'Quae', 'enim', 'adhuc', 'protulisti,', 'popularia', 'sunt,', 'ego', 'autem', 'a', 'te', 'elegantiora', 'desidero.', 'Duo', 'Reges:', 'constructio', 'interrete.', 'Tum', 'Lucius:', 'Mihi', 'vero', 'ista', 'valde', 'probata', 'sunt,', 'quod', 'item', 'fratri', 'puto.', 'Bestiarum', 'vero', 'nullum', 'iudicium', 'puto.', 'Nihil', 'enim', 'iam', 'habes,', 'quod', 'ad', 'corpus', 'referas;', 'Deinde', 'prima', 'illa,', 'quae', 'in', 'congressu', 'solemus:', 'Quid', 'tu,', 'inquit,', 'huc?', 'Et', 'homini,', 'qui', 'ceteris', 'animantibus', 'plurimum', 'praestat,', 'praecipue', 'a', 'natura', 'nihil', 'datum', 'esse', 'dicemus?']\n",
      "[]\n",
      "['Iam', 'id', 'ipsum', 'absurdum,', 'maximum', 'malum', 'neglegi.', 'Quod', 'ea', 'non', 'occurrentia', 'fingunt,', 'vincunt', 'Aristonem;', 'Atqui', 'perspicuum', 'est', 'hominem', 'e', 'corpore', 'animoque', 'constare,', 'cum', 'primae', 'sint', 'animi', 'partes,', 'secundae', 'corporis.', 'Fieri,', 'inquam,', 'Triari,', 'nullo', 'pacto', 'potest,', 'ut', 'non', 'dicas,', 'quid', 'non', 'probes', 'eius,', 'a', 'quo', 'dissentias.', 'Equidem', 'e', 'Cn.', 'An', 'dubium', 'est,', 'quin', 'virtus', 'ita', 'maximam', 'partem', 'optineat', 'in', 'rebus', 'humanis,', 'ut', 'reliquas', 'obruat?']\n",
      "[]\n",
      "['Quis', 'istum', 'dolorem', 'timet?']\n",
      "['Summus', 'dolor', 'plures', 'dies', 'manere', 'non', 'potest?', 'Dicet', 'pro', 'me', 'ipsa', 'virtus', 'nec', 'dubitabit', 'isti', 'vestro', 'beato', 'M.', 'Tubulum', 'fuisse,', 'qua', 'illum,', 'cuius', 'is', 'condemnatus', 'est', 'rogatione,', 'P.', 'Quod', 'si', 'ita', 'sit,', 'cur', 'opera', 'philosophiae', 'sit', 'danda', 'nescio.']\n",
      "[]\n",
      "['Ex', 'eorum', 'enim', 'scriptis', 'et', 'institutis', 'cum', 'omnis', 'doctrina', 'liberalis,', 'omnis', 'historia.']\n",
      "['Quod', 'si', 'ita', 'est,', 'sequitur', 'id', 'ipsum,', 'quod', 'te', 'velle', 'video,', 'omnes', 'semper', 'beatos', 'esse', 'sapientes.', 'Cum', 'enim', 'fertur', 'quasi', 'torrens', 'oratio,', 'quamvis', 'multa', 'cuiusque', 'modi', 'rapiat,', 'nihil', 'tamen', 'teneas,', 'nihil', 'apprehendas,', 'nusquam', 'orationem', 'rapidam', 'coerceas.', 'Ita', 'redarguitur', 'ipse', 'a', 'sese,', 'convincunturque', 'scripta', 'eius', 'probitate', 'ipsius', 'ac', 'moribus.', 'At', 'quanta', 'conantur!', 'Mundum', 'hunc', 'omnem', 'oppidum', 'esse', 'nostrum!', 'Incendi', 'igitur', 'eos,', 'qui', 'audiunt,', 'vides.', 'Vide,', 'ne', 'magis,', 'inquam,', 'tuum', 'fuerit,', 'cum', 're', 'idem', 'tibi,', 'quod', 'mihi,', 'videretur,', 'non', 'nova', 'te', 'rebus', 'nomina', 'inponere.', 'Qui-vere', 'falsone,', 'quaerere', 'mittimus-dicitur', 'oculis', 'se', 'privasse;', 'Si', 'ista', 'mala', 'sunt,', 'in', 'quae', 'potest', 'incidere', 'sapiens,', 'sapientem', 'esse', 'non', 'esse', 'ad', 'beate', 'vivendum', 'satis.', 'At', 'vero', 'si', 'ad', 'vitem', 'sensus', 'accesserit,', 'ut', 'appetitum', 'quendam', 'habeat', 'et', 'per', 'se', 'ipsa', 'moveatur,', 'quid', 'facturam', 'putas?']\n",
      "[]\n",
      "['Quem', 'si', 'tenueris,', 'non', 'modo', 'meum', 'Ciceronem,', 'sed', 'etiam', 'me', 'ipsum', 'abducas', 'licebit.']\n",
      "['Stulti', 'autem', 'malorum', 'memoria', 'torquentur,', 'sapientes', 'bona', 'praeterita', 'grata', 'recordatione', 'renovata', 'delectant.']\n",
      "['Esse', 'enim', 'quam', 'vellet', 'iniquus', 'iustus', 'poterat', 'inpune.']\n",
      "['Quae', 'autem', 'natura', 'suae', 'primae', 'institutionis', 'oblita', 'est?']\n",
      "['Verum', 'tamen', 'cum', 'de', 'rebus', 'grandioribus', 'dicas,', 'ipsae', 'res', 'verba', 'rapiunt;']\n",
      "['Hoc', 'est', 'non', 'modo', 'cor', 'non', 'habere,', 'sed', 'ne', 'palatum', 'quidem.']\n",
      "['Voluptatem', 'cum', 'summum', 'bonum', 'diceret,', 'primum', 'in', 'eo', 'ipso', 'parum', 'vidit,', 'deinde', 'hoc', 'quoque', 'alienum;', 'Sed', 'tu', 'istuc', 'dixti', 'bene', 'Latine,', 'parum', 'plane.', 'Nam', 'haec', 'ipsa', 'mihi', 'erunt', 'in', 'promptu,', 'quae', 'modo', 'audivi,', 'nec', 'ante', 'aggrediar,', 'quam', 'te', 'ab', 'istis,', 'quos', 'dicis,', 'instructum', 'videro.', 'Fatebuntur', 'Stoici', 'haec', 'omnia', 'dicta', 'esse', 'praeclare,', 'neque', 'eam', 'causam', 'Zenoni', 'desciscendi', 'fuisse.', 'Non', 'autem', 'hoc:', 'igitur', 'ne', 'illud', 'quidem.', 'Ratio', 'quidem', 'vestra', 'sic', 'cogit.', 'Cum', 'audissem', 'Antiochum,', 'Brute,', 'ut', 'solebam,', 'cum', 'M.', 'An', 'quod', 'ita', 'callida', 'est,', 'ut', 'optime', 'possit', 'architectari', 'voluptates?']\n",
      "[]\n",
      "['Idemne,', 'quod', 'iucunde?']\n",
      "['Haec', 'mihi', 'videtur', 'delicatior,', 'ut', 'ita', 'dicam,', 'molliorque', 'ratio,', 'quam', 'virtutis', 'vis', 'gravitasque', 'postulat.', 'Sed', 'quoniam', 'et', 'advesperascit', 'et', 'mihi', 'ad', 'villam', 'revertendum', 'est,', 'nunc', 'quidem', 'hactenus;', 'Cuius', 'ad', 'naturam', 'apta', 'ratio', 'vera', 'illa', 'et', 'summa', 'lex', 'a', 'philosophis', 'dicitur.', 'Neque', 'solum', 'ea', 'communia,', 'verum', 'etiam', 'paria', 'esse', 'dixerunt.', 'Sed', 'nunc,', 'quod', 'agimus;', 'A', 'mene', 'tu?Tum', 'itna', 'kyun', 'muskura', 'rahe', 'ho?']\n"
     ]
    }
   ],
   "source": [
    "with open(path,'r+') as file:\n",
    "    for lines in (file.readlines()):\n",
    "        \n",
    "        print(lines.split())\n",
    "        \n",
    "    file.write(\"\\n Tum itna kyun muskura rahe ho?\")"
   ]
  },
  {
   "cell_type": "code",
   "execution_count": 34,
   "id": "aaac6eaf-812a-49e9-a992-4c827ef850be",
   "metadata": {},
   "outputs": [
    {
     "name": "stdout",
     "output_type": "stream",
     "text": [
      "Quod equidem non reprehendo;\n",
      "\n",
      "[' haec omnia dicta esse praeclare, neque eam causam Zenoni desciscendi fuisse. Non autem hoc: igitur ne illud quidem. Ratio quidem vestra sic cogit. Cum audissem Antiochum, Brute, ut solebam, cum M. An quod ita callida est, ut optime possit architectari voluptates?\\n', '\\n', 'Idemne, quod iucunde?\\n', 'Haec mihi videtur delicatior, ut ita dicam, molliorque ratio, quam virtutis vis gravitasque postulat. Sed quoniam et advesperascit et mihi ad villam revertendum est, nunc quidem hactenus; Cuius ad naturam apta ratio vera illa et summa lex a philosophis dicitur. Neque solum ea communia, verum etiam paria esse dixerunt. Sed nunc, quod agimus; A mene tu?Tum itna kyun muskura rahe ho?\\n', ' Tum itna kyun muskura rahe ho?']\n",
      "3604\n"
     ]
    }
   ],
   "source": [
    "with open(path,'r+') as file:\n",
    "    print(file.readlines()[0])\n",
    "    file.seek(2900)\n",
    "    print(file.readlines())\n",
    "    print(file.tell())\n",
    "    "
   ]
  },
  {
   "cell_type": "code",
   "execution_count": null,
   "id": "aee909f9-afb8-4428-b88e-d9dcd37ab8fa",
   "metadata": {},
   "outputs": [],
   "source": []
  }
 ],
 "metadata": {
  "kernelspec": {
   "display_name": "Python 3",
   "language": "python",
   "name": "python3"
  },
  "language_info": {
   "codemirror_mode": {
    "name": "ipython",
    "version": 3
   },
   "file_extension": ".py",
   "mimetype": "text/x-python",
   "name": "python",
   "nbconvert_exporter": "python",
   "pygments_lexer": "ipython3",
   "version": "3.8.5"
  }
 },
 "nbformat": 4,
 "nbformat_minor": 5
}
