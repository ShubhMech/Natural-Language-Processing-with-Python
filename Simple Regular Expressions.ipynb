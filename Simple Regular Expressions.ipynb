{
 "cells": [
  {
   "cell_type": "code",
   "execution_count": 1,
   "id": "5fc1cf69-57d5-44fc-b068-01bccf112c79",
   "metadata": {},
   "outputs": [],
   "source": [
    "import re"
   ]
  },
  {
   "cell_type": "code",
   "execution_count": 2,
   "id": "e1006f7c-f115-4197-a74f-d907ee9303f0",
   "metadata": {},
   "outputs": [],
   "source": [
    "text= \"Hey, I am the best Machine Learning Engineer and the best Data Scientist in the world wight now.\""
   ]
  },
  {
   "cell_type": "code",
   "execution_count": 17,
   "id": "5f49c330-9873-4a50-a927-096869911f21",
   "metadata": {},
   "outputs": [],
   "source": [
    "pattern= \"the best\"\n",
    "res=re.search(pattern, text)"
   ]
  },
  {
   "cell_type": "code",
   "execution_count": 18,
   "id": "06352b03-08d6-418a-9da6-d17ad8873099",
   "metadata": {},
   "outputs": [
    {
     "data": {
      "text/plain": [
       "<re.Match object; span=(10, 18), match='the best'>"
      ]
     },
     "execution_count": 18,
     "metadata": {},
     "output_type": "execute_result"
    }
   ],
   "source": [
    "res"
   ]
  },
  {
   "cell_type": "code",
   "execution_count": 19,
   "id": "6328d607-0570-4e28-850d-64c0e1e1a77c",
   "metadata": {},
   "outputs": [
    {
     "data": {
      "text/plain": [
       "(10, 18)"
      ]
     },
     "execution_count": 19,
     "metadata": {},
     "output_type": "execute_result"
    }
   ],
   "source": [
    "res.span()"
   ]
  },
  {
   "cell_type": "code",
   "execution_count": 8,
   "id": "53c13579-40ea-4aed-a18e-2a806d5e82bb",
   "metadata": {},
   "outputs": [],
   "source": [
    "pattern= \"the best machine learning\"\n",
    "res=re.search(pattern, text)"
   ]
  },
  {
   "cell_type": "code",
   "execution_count": 10,
   "id": "6f690d81-77b7-4f0f-bf1b-494147fd3b5f",
   "metadata": {},
   "outputs": [
    {
     "name": "stdout",
     "output_type": "stream",
     "text": [
      "None\n"
     ]
    }
   ],
   "source": [
    "print(res)"
   ]
  },
  {
   "cell_type": "code",
   "execution_count": 15,
   "id": "1db970cb-30b2-4ab3-8f18-387e96161376",
   "metadata": {},
   "outputs": [],
   "source": [
    "pattern= \"\\w{3} \\w \\w{3,}\"\n",
    "res=re.search(pattern, text)"
   ]
  },
  {
   "cell_type": "code",
   "execution_count": 22,
   "id": "23ca050e-4b6c-45cd-969c-3f5936386ff9",
   "metadata": {},
   "outputs": [],
   "source": [
    "res=re.findall(\"the best\", text)"
   ]
  },
  {
   "cell_type": "code",
   "execution_count": 24,
   "id": "1418320a-4980-4669-a672-1055793380f1",
   "metadata": {},
   "outputs": [
    {
     "data": {
      "text/plain": [
       "list"
      ]
     },
     "execution_count": 24,
     "metadata": {},
     "output_type": "execute_result"
    }
   ],
   "source": [
    "type(res)"
   ]
  },
  {
   "cell_type": "code",
   "execution_count": 39,
   "id": "663b429b-4e32-4daa-bc3b-8b7f594c0658",
   "metadata": {},
   "outputs": [
    {
     "name": "stdout",
     "output_type": "stream",
     "text": [
      "(10, 14)\n",
      "<re.Match object; span=(10, 14), match='the '>\n",
      "(49, 53)\n",
      "<re.Match object; span=(49, 53), match='the '>\n",
      "(76, 80)\n",
      "<re.Match object; span=(76, 80), match='the '>\n"
     ]
    }
   ],
   "source": [
    "for res in re.finditer(r\"(the) | (best)\", text):\n",
    "    print(res.span())\n",
    "    print(res)"
   ]
  },
  {
   "cell_type": "code",
   "execution_count": 36,
   "id": "c5782921-c197-41b9-a9bc-1893ad930266",
   "metadata": {},
   "outputs": [
    {
     "name": "stdout",
     "output_type": "stream",
     "text": [
      "(14, 18)\n",
      "<re.Match object; span=(14, 18), match='best'>\n",
      "(53, 57)\n",
      "<re.Match object; span=(53, 57), match='best'>\n"
     ]
    }
   ],
   "source": [
    "for res in re.finditer(r\"best\", text):\n",
    "    print(res.span())\n",
    "    print(res)"
   ]
  },
  {
   "cell_type": "code",
   "execution_count": 45,
   "id": "1b9cc66e-e95d-4ee4-98e9-cf516fe9e9e6",
   "metadata": {},
   "outputs": [
    {
     "name": "stdout",
     "output_type": "stream",
     "text": [
      "(9, 19)\n",
      "<re.Match object; span=(9, 19), match=' the best '>\n",
      "(48, 58)\n",
      "<re.Match object; span=(48, 58), match=' the best '>\n"
     ]
    }
   ],
   "source": [
    "for res in re.finditer(r\"\\s\\w{3}\\s\\w{4}\\s\", text):\n",
    "    print(res.span())\n",
    "    print(res)"
   ]
  },
  {
   "cell_type": "code",
   "execution_count": null,
   "id": "8b7d4bf6-8e84-4b22-9acb-e11e601cfe60",
   "metadata": {},
   "outputs": [],
   "source": []
  }
 ],
 "metadata": {
  "kernelspec": {
   "display_name": "Python 3",
   "language": "python",
   "name": "python3"
  },
  "language_info": {
   "codemirror_mode": {
    "name": "ipython",
    "version": 3
   },
   "file_extension": ".py",
   "mimetype": "text/x-python",
   "name": "python",
   "nbconvert_exporter": "python",
   "pygments_lexer": "ipython3",
   "version": "3.8.5"
  }
 },
 "nbformat": 4,
 "nbformat_minor": 5
}
