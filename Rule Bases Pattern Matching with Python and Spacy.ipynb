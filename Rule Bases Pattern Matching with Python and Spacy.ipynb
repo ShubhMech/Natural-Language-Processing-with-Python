{
 "cells": [
  {
   "cell_type": "code",
   "execution_count": 47,
   "id": "c3cfb7b1-59ea-4395-a09c-2bbbff197600",
   "metadata": {},
   "outputs": [],
   "source": [
    "# pip install spacy"
   ]
  },
  {
   "cell_type": "code",
   "execution_count": 72,
   "id": "b895bf63-2e15-4a36-8c7f-507b5ca4444f",
   "metadata": {},
   "outputs": [],
   "source": [
    "import spacy"
   ]
  },
  {
   "cell_type": "code",
   "execution_count": null,
   "id": "b19f7859-6f45-442b-b3da-6af52d99172c",
   "metadata": {},
   "outputs": [],
   "source": []
  },
  {
   "cell_type": "code",
   "execution_count": 84,
   "id": "ad7b0527-9baf-41fb-80b8-ee8caa520410",
   "metadata": {},
   "outputs": [
    {
     "data": {
      "text/plain": [
       "[(8656102463236116519, 0, 2)]"
      ]
     },
     "execution_count": 84,
     "metadata": {},
     "output_type": "execute_result"
    }
   ],
   "source": [
    "nlp =spacy.load('en_core_web_sm')\n",
    "from spacy.matcher import Matcher\n",
    "pattern1= [[{\"LOWER\":\"solar\"},{\"LOWER\":\"power\"}] ,[{\"LOWER\":\"solar\"},{\"IS_PUNCT\":True},{\"LOWER\":\"power\"}] , [{\"LOWER\":\"solarpower\"}]]\n",
    "# pattern2= {\"LOWER\":\"solar\"},{\"IS_PUNCT\":True},{\"LOWER\":\"power\"}\n",
    "# pattern3= {\"LOWER\":\"solarpower\"}\n",
    "matcher= Matcher(nlp.vocab)\n",
    "\n",
    "matcher.add(\"SolarPower\",pattern1)\n",
    "doc= nlp(u\"solar power are stupid is a very False statement\")\n",
    "matcher(doc)\n",
    "\n",
    "\n",
    "\n"
   ]
  },
  {
   "cell_type": "code",
   "execution_count": 85,
   "id": "ba666851-c15d-4370-9e91-420daf5bbed8",
   "metadata": {},
   "outputs": [
    {
     "data": {
      "text/plain": [
       "[(11901859001352538922, 0, 2),\n",
       " (11901859001352538922, 4, 6),\n",
       " (11901859001352538922, 8, 10)]"
      ]
     },
     "execution_count": 85,
     "metadata": {},
     "output_type": "execute_result"
    }
   ],
   "source": [
    "import spacy\n",
    "from spacy.matcher import Matcher\n",
    "nlp = spacy.load('en_core_web_sm')\n",
    "matcher = Matcher(nlp.vocab)\n",
    "patterns =[[{'LOWER':'hello'}, {'LOWER':'potato'}], [{'LOWER':'hello'}, {'LOWER':'yam'}], [{'LOWER':'hello'}, {'LOWER':'stupid'}]]\n",
    "matcher.add('a', patterns, on_match=None)\n",
    "document = nlp(u'hello potato i am hello yam you are hello stupid')\n",
    "matcher(document)"
   ]
  },
  {
   "cell_type": "code",
   "execution_count": 54,
   "id": "149a9cd8-6d4c-48cf-af0f-2e80e031e082",
   "metadata": {},
   "outputs": [],
   "source": []
  },
  {
   "cell_type": "code",
   "execution_count": null,
   "id": "f4ced918-0b3a-43c3-96c3-c2dd33c45c0b",
   "metadata": {},
   "outputs": [],
   "source": []
  },
  {
   "cell_type": "code",
   "execution_count": null,
   "id": "c7de7de8-c4b4-4a24-9dc9-27e96e474d98",
   "metadata": {},
   "outputs": [],
   "source": []
  },
  {
   "cell_type": "code",
   "execution_count": null,
   "id": "0ce5e6dc-2916-4cda-95c2-8def3470c6da",
   "metadata": {},
   "outputs": [],
   "source": [
    "\n"
   ]
  },
  {
   "cell_type": "code",
   "execution_count": null,
   "id": "1ba378d5-8313-48d1-8145-8f10271074b1",
   "metadata": {},
   "outputs": [],
   "source": []
  },
  {
   "cell_type": "code",
   "execution_count": null,
   "id": "081141b2-dc82-474f-ba03-a4563c774b45",
   "metadata": {},
   "outputs": [],
   "source": []
  },
  {
   "cell_type": "code",
   "execution_count": null,
   "id": "a572db39-b94b-4965-989b-498488044ad5",
   "metadata": {},
   "outputs": [],
   "source": []
  },
  {
   "cell_type": "code",
   "execution_count": null,
   "id": "fb89ab67-d762-486e-b6d6-871a6cfa2e35",
   "metadata": {},
   "outputs": [],
   "source": []
  },
  {
   "cell_type": "code",
   "execution_count": null,
   "id": "a9868b16-d6af-45bf-9f3c-03f7c839e54e",
   "metadata": {},
   "outputs": [],
   "source": []
  }
 ],
 "metadata": {
  "kernelspec": {
   "display_name": "Python 3",
   "language": "python",
   "name": "python3"
  },
  "language_info": {
   "codemirror_mode": {
    "name": "ipython",
    "version": 3
   },
   "file_extension": ".py",
   "mimetype": "text/x-python",
   "name": "python",
   "nbconvert_exporter": "python",
   "pygments_lexer": "ipython3",
   "version": "3.8.5"
  }
 },
 "nbformat": 4,
 "nbformat_minor": 5
}
