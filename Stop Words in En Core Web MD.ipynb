{
 "cells": [
  {
   "cell_type": "code",
   "execution_count": 1,
   "id": "4f6e24ff-a3dd-4369-a7ef-39a9ad85816e",
   "metadata": {},
   "outputs": [],
   "source": [
    "import spacy\n",
    "nlp= spacy.load('en_core_web_md')"
   ]
  },
  {
   "cell_type": "code",
   "execution_count": 2,
   "id": "4bebf587-d6b4-421d-b2dd-9491b254ab76",
   "metadata": {},
   "outputs": [
    {
     "data": {
      "text/plain": [
       "326"
      ]
     },
     "execution_count": 2,
     "metadata": {},
     "output_type": "execute_result"
    }
   ],
   "source": [
    "len(nlp.Defaults.stop_words)"
   ]
  },
  {
   "cell_type": "code",
   "execution_count": 3,
   "id": "4acda931-7e71-4c8e-ac30-37bafac7485a",
   "metadata": {},
   "outputs": [
    {
     "data": {
      "text/plain": [
       "326"
      ]
     },
     "execution_count": 3,
     "metadata": {},
     "output_type": "execute_result"
    }
   ],
   "source": [
    "len(nlp.Defaults.stop_words)"
   ]
  },
  {
   "cell_type": "code",
   "execution_count": 4,
   "id": "88009a18-d6f9-430c-b814-8583d7d3808d",
   "metadata": {},
   "outputs": [
    {
     "data": {
      "text/plain": [
       "False"
      ]
     },
     "execution_count": 4,
     "metadata": {},
     "output_type": "execute_result"
    }
   ],
   "source": [
    "nlp.vocab[\"gist\"].is_stop"
   ]
  },
  {
   "cell_type": "code",
   "execution_count": 5,
   "id": "4a66bfa3-3dac-4cf3-9d39-1f6c2c33d0f5",
   "metadata": {},
   "outputs": [],
   "source": [
    "nlp.Defaults.stop_words.add(\"Maharaja\")"
   ]
  },
  {
   "cell_type": "code",
   "execution_count": 6,
   "id": "4ba108f6-62a6-4704-865a-e2e39ff30290",
   "metadata": {},
   "outputs": [],
   "source": [
    "nlp.vocab[\"Maharaja\"].is_stop= True"
   ]
  },
  {
   "cell_type": "code",
   "execution_count": 7,
   "id": "30bd2a08-3f3a-4ccf-bbdb-92668b99686a",
   "metadata": {},
   "outputs": [
    {
     "data": {
      "text/plain": [
       "327"
      ]
     },
     "execution_count": 7,
     "metadata": {},
     "output_type": "execute_result"
    }
   ],
   "source": [
    "len(nlp.Defaults.stop_words)"
   ]
  },
  {
   "cell_type": "code",
   "execution_count": 8,
   "id": "0f31fe02-e976-4be4-bdeb-7bd958d957ba",
   "metadata": {},
   "outputs": [
    {
     "data": {
      "text/plain": [
       "True"
      ]
     },
     "execution_count": 8,
     "metadata": {},
     "output_type": "execute_result"
    }
   ],
   "source": [
    "nlp.vocab['Maharaja'].is_stop"
   ]
  },
  {
   "cell_type": "code",
   "execution_count": 9,
   "id": "5fa07d5c-3e8b-40c5-92a1-f7376262f32a",
   "metadata": {},
   "outputs": [],
   "source": [
    "nlp.Defaults.stop_words.remove(\"Maharaja\")"
   ]
  },
  {
   "cell_type": "code",
   "execution_count": 10,
   "id": "225e4eb4-3f7e-45a8-ac0e-b2d1d96fbea4",
   "metadata": {},
   "outputs": [],
   "source": [
    "nlp.vocab[\"Maharaja\"].is_stop= False"
   ]
  },
  {
   "cell_type": "code",
   "execution_count": 11,
   "id": "534fb927-ff60-4a99-bdb5-168e34140fe7",
   "metadata": {},
   "outputs": [
    {
     "data": {
      "text/plain": [
       "False"
      ]
     },
     "execution_count": 11,
     "metadata": {},
     "output_type": "execute_result"
    }
   ],
   "source": [
    "nlp.vocab[\"Maharaja\"].is_stop\n"
   ]
  },
  {
   "cell_type": "code",
   "execution_count": 12,
   "id": "48afe0da-cc19-4c9e-811e-89fe16416e6d",
   "metadata": {},
   "outputs": [
    {
     "data": {
      "text/plain": [
       "326"
      ]
     },
     "execution_count": 12,
     "metadata": {},
     "output_type": "execute_result"
    }
   ],
   "source": [
    "len(nlp.Defaults.stop_words)"
   ]
  },
  {
   "cell_type": "code",
   "execution_count": null,
   "id": "67bb8ddd-c69a-4dab-96b8-6b73984babf3",
   "metadata": {},
   "outputs": [],
   "source": []
  }
 ],
 "metadata": {
  "kernelspec": {
   "display_name": "Python 3",
   "language": "python",
   "name": "python3"
  },
  "language_info": {
   "codemirror_mode": {
    "name": "ipython",
    "version": 3
   },
   "file_extension": ".py",
   "mimetype": "text/x-python",
   "name": "python",
   "nbconvert_exporter": "python",
   "pygments_lexer": "ipython3",
   "version": "3.8.5"
  }
 },
 "nbformat": 4,
 "nbformat_minor": 5
}
